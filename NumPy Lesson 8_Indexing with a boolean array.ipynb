{
 "cells": [
  {
   "cell_type": "markdown",
   "metadata": {},
   "source": [
    "# NumPy Tutorial\n",
    "[Source](https://github.com/PoLun-Wang/Learn_NumPy)"
   ]
  },
  {
   "cell_type": "markdown",
   "metadata": {},
   "source": [
    "# Lesson 8: Indexing with a boolean array"
   ]
  },
  {
   "cell_type": "code",
   "execution_count": 1,
   "metadata": {},
   "outputs": [],
   "source": [
    "import numpy as np"
   ]
  },
  {
   "cell_type": "markdown",
   "metadata": {},
   "source": [
    "## by Elements/ by Cells\n",
    "**判斷每一個元素 Elements / Cells**\n",
    "* 判斷矩陣a中每一個位置的數值是否符合我們設定的條件，再將這個判斷結果儲存成一個布林(boolean)矩陣。\n",
    "* 布林矩陣的大小會跟矩陣a的大小一致，所以可以直接使用這個布林矩陣當作矩陣a的索引值，NumPy會篩選布林矩陣值為True的位置的元素。\n",
    "\n",
    "* 本範例在`第3行`直接用條件 < 20 判斷是符合這個條件的元素位置，產生布林矩陣filter。\n",
    "* `第11行`處，直接選取布林矩陣filter為True的元素對應到矩陣a的位置的值更改為0。"
   ]
  },
  {
   "cell_type": "code",
   "execution_count": 3,
   "metadata": {},
   "outputs": [
    {
     "name": "stdout",
     "output_type": "stream",
     "text": [
      "filter=>\n",
      "True\n"
     ]
    }
   ],
   "source": [
    "a = 10\n",
    "filter_ = a < 20\n",
    "print('filter=>\\n{0}'.format(filter_))"
   ]
  },
  {
   "cell_type": "code",
   "execution_count": 4,
   "metadata": {},
   "outputs": [
    {
     "name": "stdout",
     "output_type": "stream",
     "text": [
      "a=>\n",
      "[[ 0  1  2  3  4]\n",
      " [ 5  6  7  8  9]\n",
      " [10 11 12 13 14]\n",
      " [15 16 17 18 19]\n",
      " [20 21 22 23 24]]\n",
      "filter=>\n",
      "[[ True  True  True  True  True]\n",
      " [ True  True  True  True  True]\n",
      " [ True  True  True  True  True]\n",
      " [ True  True  True  True  True]\n",
      " [False False False False False]]\n"
     ]
    }
   ],
   "source": [
    "a = np.arange(25).reshape(5, 5)\n",
    "# 從矩陣a中篩選出數值小於20的index位置，並依此邏輯建立篩選器filter\n",
    "filter = a < 20\n",
    "\n",
    "print('a=>\\n{0}'.format(a))\n",
    "# 看看篩選器filter長怎樣\n",
    "print('filter=>\\n{0}'.format(filter))"
   ]
  },
  {
   "cell_type": "code",
   "execution_count": 5,
   "metadata": {},
   "outputs": [
    {
     "name": "stdout",
     "output_type": "stream",
     "text": [
      "Replace numbers with zero that number is small than 20:\n",
      "a=>\n",
      "[[ 0  0  0  0  0]\n",
      " [ 0  0  0  0  0]\n",
      " [ 0  0  0  0  0]\n",
      " [ 0  0  0  0  0]\n",
      " [20 21 22 23 24]]\n"
     ]
    }
   ],
   "source": [
    "print('Replace numbers with zero that number is small than 20:')\n",
    "# 直接將篩選器作為index數值，將篩選器數值為True對應到a矩陣位置的數值更改為0\n",
    "a[filter] = 0\n",
    "print('a=>\\n{0}'.format(a))"
   ]
  },
  {
   "cell_type": "markdown",
   "metadata": {},
   "source": [
    "## by Rows/ by Columns\n",
    "**依據 Rows / Columns 判斷**\n",
    "* 既然NumPy可以透過布林矩陣作為篩選條件過濾矩陣內的每一個元素，那一定也可以以這種方式對矩陣選取需要的Row或Column！做法也很簡單，`建立一個布林陣列，陣列大小與這次的目標矩陣a的Row或Column數相等`，就可以依據欲作篩選的維度進行篩選a[維度1, 維度2, …]。"
   ]
  },
  {
   "cell_type": "code",
   "execution_count": 7,
   "metadata": {},
   "outputs": [
    {
     "name": "stdout",
     "output_type": "stream",
     "text": [
      "a=>\n",
      "[[ 0  1  2  3]\n",
      " [ 4  5  6  7]\n",
      " [ 8  9 10 11]]\n",
      "\n",
      "b1=> [False  True  True]\n",
      "b2=> [ True False  True False]\n",
      "\n",
      "Display rows in matrix \"a\" that are selected by array \"b1\":\n",
      "a[b1,:]=>\n",
      "[[ 4  5  6  7]\n",
      " [ 8  9 10 11]]\n",
      "\n",
      "Display columns in matrix \"a\" that are selected by array \"b2\":\n",
      "a[:,b2]=>\n",
      "[[ 0  2]\n",
      " [ 4  6]\n",
      " [ 8 10]]\n"
     ]
    }
   ],
   "source": [
    "a = np.arange(12).reshape(3,4)\n",
    "print('a=>\\n{0}'.format(a))\n",
    "\n",
    "print('')\n",
    "b1 = np.array([False,True,True])\n",
    "b2 = np.array([True,False,True,False])\n",
    "print('b1=> {0}'.format(b1))\n",
    "print('b2=> {0}'.format(b2))\n",
    "\n",
    "print('')\n",
    "print('Display rows in matrix \"a\" that are selected by array \"b1\":')\n",
    "# 使用b1作為矩陣a的row篩選器，印出b1值為True對應到a矩陣的數值\n",
    "print('a[b1,:]=>\\n{0}'.format(a[b1,:]))\n",
    "\n",
    "print('')\n",
    "print('Display columns in matrix \"a\" that are selected by array \"b2\":')\n",
    "# 使用b2作為矩陣a的column篩選器，印出b2值為True對應到a矩陣的數值\n",
    "print('a[:,b2]=>\\n{0}'.format(a[:,b2]))"
   ]
  }
 ],
 "metadata": {
  "kernelspec": {
   "display_name": "Python 3",
   "language": "python",
   "name": "python3"
  },
  "language_info": {
   "codemirror_mode": {
    "name": "ipython",
    "version": 3
   },
   "file_extension": ".py",
   "mimetype": "text/x-python",
   "name": "python",
   "nbconvert_exporter": "python",
   "pygments_lexer": "ipython3",
   "version": "3.6.0"
  }
 },
 "nbformat": 4,
 "nbformat_minor": 2
}
