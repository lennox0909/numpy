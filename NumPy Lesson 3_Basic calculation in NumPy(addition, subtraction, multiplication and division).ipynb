{
 "cells": [
  {
   "cell_type": "markdown",
   "metadata": {},
   "source": [
    "# NumPy Tutorial\n",
    "[Source](https://github.com/PoLun-Wang/Learn_NumPy)"
   ]
  },
  {
   "cell_type": "markdown",
   "metadata": {},
   "source": [
    "# Lesson 3: Basic calculation in NumPy(addition, subtraction, multiplication and division)\n",
    "\n",
    "## 加、減、次方\n",
    "**基礎運算-1**\n",
    "* 加、減、次方的計算非常直覺好懂，分別使用『 + 、 – 、 ** 』就可以了。\n",
    "* 例如：加、減、次方都可以直接做單一數值的同加、同減、次方。"
   ]
  },
  {
   "cell_type": "code",
   "execution_count": 2,
   "metadata": {},
   "outputs": [],
   "source": [
    "import numpy as np"
   ]
  },
  {
   "cell_type": "code",
   "execution_count": 37,
   "metadata": {},
   "outputs": [
    {
     "name": "stdout",
     "output_type": "stream",
     "text": [
      "維度相同的矩陣相加、減:\n",
      "a=>[6 7 8 9]\n",
      "b=>[0 1 2 3]\n",
      "c=>[6 6 6 6]\n",
      "\n",
      "同加、同減一個數值:\n",
      "a=>[11 12 13 14]\n",
      "b=>[-5 -4 -3 -2]\n",
      "\n",
      "次方：\n",
      "d=>[25 16  9  4]\n"
     ]
    }
   ],
   "source": [
    "np.set_printoptions()  # reset print options\n",
    "\n",
    "print('維度相同的矩陣相加、減:')\n",
    "# 維度相同的矩陣相加、減\n",
    "a = np.array( [6, 7, 8, 9] )\n",
    "b = np.arange( 4 )\n",
    "c = a - b\n",
    "print(\"a=>{0}\".format(a))\n",
    "print(\"b=>{0}\".format(b))\n",
    "print(\"c=>{0}\".format(c))\n",
    " \n",
    " \n",
    "print('\\n同加、同減一個數值:')\n",
    "# 同加、同減一個數值\n",
    "a += 5\n",
    "print(\"a=>{0}\".format(a))\n",
    "b -= 5\n",
    "print(\"b=>{0}\".format(b))\n",
    " \n",
    " \n",
    "print('\\n次方：')\n",
    "# d是b的2次方\n",
    "# d is squared of b.\n",
    "d = b**2\n",
    "print(\"d=>{0}\".format(d))"
   ]
  },
  {
   "cell_type": "markdown",
   "metadata": {},
   "source": [
    "## 同除、同乘特定數\n",
    "**基礎運算-2**\n",
    "* `矩陣(matrix)`同乘上某個特定`純量(scalar)`也很簡單，就直接相乘就好了！"
   ]
  },
  {
   "cell_type": "code",
   "execution_count": 39,
   "metadata": {},
   "outputs": [
    {
     "name": "stdout",
     "output_type": "stream",
     "text": [
      "a=>[0 1 2 3 4]\n",
      "b=>[10  9  8  7  6]\n",
      "\n",
      "同除:\n",
      "c=>[0.  0.5 1.  1.5\n",
      " 2. ]\n",
      "\n",
      "同乘:\n",
      "d=>[20 18 16 14 12]\n"
     ]
    }
   ],
   "source": [
    "a = np.arange(5)\n",
    "b = np.arange(10, 5, -1)\n",
    "print(\"a=>{0}\".format(a))\n",
    "print(\"b=>{0}\".format(b))\n",
    "print(\"\\n同除:\")\n",
    "# c等於a同除以2\n",
    "c = a / 2\n",
    "print(\"c=>{0}\".format(c))\n",
    " \n",
    "print(\"\\n同乘:\")\n",
    "# d等於b同乘以2\n",
    "d = b * 2\n",
    "print(\"d=>{0}\".format(d))"
   ]
  },
  {
   "cell_type": "markdown",
   "metadata": {},
   "source": [
    "<h2>矩陣運算</h2>\n",
    "<p>$A=\n",
    "\\begin{bmatrix}\n",
    "1 & 2 \\\\\n",
    "3& 4\n",
    "\\end{bmatrix},\\space\n",
    "B=\n",
    "\\begin{bmatrix}\n",
    "5 & 6 \\\\\n",
    "7 & 8\n",
    "\\end{bmatrix}\n",
    "$</p>\n",
    "<p><strong>矩陣乘法：</strong>\n",
    "$A\\times B=\n",
    "\\begin{bmatrix}\n",
    "\\begin{bmatrix} 1 \\times 5 + 2 \\times 7 \\end{bmatrix} & \\begin{bmatrix} 1 \\times 6 + 2 \\times 8 \\end{bmatrix} \\\\\n",
    "\\begin{bmatrix} 3 \\times 5 + 4 \\times 7 \\end{bmatrix} & \\begin{bmatrix} 3 \\times 6 + 4 \\times 8 \\end{bmatrix}\n",
    "\\end{bmatrix}\n",
    "$</p>\n",
    "<p>$=\n",
    "\\begin{bmatrix}\n",
    "\\begin{bmatrix} 5 + 14 \\end{bmatrix} & \\begin{bmatrix} 6 + 16 \\end{bmatrix} \\\\\n",
    "\\begin{bmatrix} 15 + 28 \\end{bmatrix} & \\begin{bmatrix} 18 + 32 \\end{bmatrix} \\\\\n",
    "\\end{bmatrix}\n",
    "$</p>\n",
    "<p>$=\n",
    "\\begin{bmatrix}\n",
    "19 & 22 \\\\\n",
    "43 & 50\n",
    "\\end{bmatrix}\n",
    "$</p>\n",
    "<p><strong>矩陣相對應位置相乘：</strong>\n",
    "\n",
    "\\begin{bmatrix}\n",
    "1\\times 5 & 2\\times 6 \\\\\n",
    "3\\times 7 & 4\\times 8\n",
    "\\end{bmatrix}=\n",
    "\\begin{bmatrix}\n",
    "5 & 12 \\\\\n",
    "21 & 32\n",
    "\\end{bmatrix}"
   ]
  },
  {
   "cell_type": "code",
   "execution_count": 40,
   "metadata": {},
   "outputs": [
    {
     "name": "stdout",
     "output_type": "stream",
     "text": [
      "A, B相乘(矩陣乘法) =>\n",
      "[[19 22]\n",
      " [43 50]]\n",
      "\n",
      "A, B相對應位置相乘=>\n",
      "[[ 5 12]\n",
      " [21 32]]\n"
     ]
    }
   ],
   "source": [
    "# 矩陣相乘\n",
    "A = np.array([[1, 2], [3, 4]])\n",
    "B = np.array([[5, 6], [7, 8]])\n",
    "print(\"A, B相乘(矩陣乘法) =>\\n{0}\".format(A.dot(B)))\n",
    "print()\n",
    "print(\"A, B相對應位置相乘=>\\n{0}\".format(A*B))"
   ]
  },
  {
   "cell_type": "markdown",
   "metadata": {},
   "source": [
    "## 取代\n",
    "**取代**\n",
    "* 這個也很常用到喔，像是有時候要把矩陣裡面NaN的數值取代成0的時候就很好用！\n",
    "* 舉例：判斷陣列元素值小於等於0的元素，把那些元素的數值取代成1"
   ]
  },
  {
   "cell_type": "code",
   "execution_count": 41,
   "metadata": {},
   "outputs": [
    {
     "name": "stdout",
     "output_type": "stream",
     "text": [
      "陣列e裡面哪幾個位置的元素值小於等於零?:[False  True False\n",
      " False  True]\n",
      "把小於等於0的元素取代成1=>[5 1 3 9 1]\n"
     ]
    }
   ],
   "source": [
    "# 印出陣列中小於等於0的元素\n",
    "e = np.array([5, -1, 3, 9, 0])\n",
    "print(\"陣列e裡面哪幾個位置的元素值小於等於零?:{0}\".format(e<=0))\n",
    " \n",
    "# 把小於等於0的元素取代成1\n",
    "e[e<=0] = 1\n",
    "print(\"把小於等於0的元素取代成1=>{0}\".format(e))"
   ]
  },
  {
   "cell_type": "markdown",
   "metadata": {},
   "source": [
    "## 陣列元素的型別\n",
    "**常犯錯誤**\n",
    "* 因為NumPy太好用了，導致有時候甚至會忽略兩個要做運算的陣列型別根本不符，最後就會出錯～哈\n",
    "* 用下列例子給大家了解這種狀況："
   ]
  },
  {
   "cell_type": "code",
   "execution_count": 3,
   "metadata": {},
   "outputs": [
    {
     "name": "stdout",
     "output_type": "stream",
     "text": [
      "a=>\n",
      "[[5. 5. 5.]\n",
      " [5. 5. 5.]]\n",
      "b=>\n",
      "[[0.82756764 0.55367925 0.40450138]\n",
      " [0.6677403  0.5847374  0.37026601]]\n",
      "b += a: b=>\n",
      "[[5.82756764 5.55367925 5.40450138]\n",
      " [5.6677403  5.5847374  5.37026601]]\n",
      "a += b: a=>\n",
      "[[10.82756764 10.55367925 10.40450138]\n",
      " [10.6677403  10.5847374  10.37026601]]\n"
     ]
    }
   ],
   "source": [
    "## Operations: += *=\n",
    "a = np.ones((2, 3), dtype=np.float)\n",
    "b = np.random.random( (2,3) )\n",
    "a *= 5\n",
    "print(\"a=>\\n{0}\".format(a))\n",
    "print(\"b=>\\n{0}\".format(b))\n",
    "b += a\n",
    "print(\"b += a: b=>\\n{0}\".format(b))\n",
    " \n",
    "a += b\n",
    "print(\"a += b: a=>\\n{0}\".format(a))"
   ]
  },
  {
   "cell_type": "markdown",
   "metadata": {},
   "source": [
    "* 如果把上面範例第二行程式的 np.float 改成 np.int 就會出錯喔！\n",
    "* 下列程式第11行：硬是用型別為int的矩陣加上一個型別為float的矩陣，肯定會出錯的吧！\n",
    "```\n",
    "UFuncTypeError: Cannot cast ufunc 'add' output from dtype('float64') to dtype('int64') with casting rule 'same_kind'\n",
    "```"
   ]
  },
  {
   "cell_type": "code",
   "execution_count": 4,
   "metadata": {},
   "outputs": [
    {
     "name": "stdout",
     "output_type": "stream",
     "text": [
      "a=>\n",
      "[[5 5 5]\n",
      " [5 5 5]]\n",
      "b=>\n",
      "[[0.12294656 0.89689834 0.9390135 ]\n",
      " [0.98076049 0.29205396 0.69613955]]\n",
      "b += a: b=>\n",
      "[[5.12294656 5.89689834 5.9390135 ]\n",
      " [5.98076049 5.29205396 5.69613955]]\n"
     ]
    },
    {
     "ename": "UFuncTypeError",
     "evalue": "Cannot cast ufunc 'add' output from dtype('float64') to dtype('int64') with casting rule 'same_kind'",
     "output_type": "error",
     "traceback": [
      "\u001b[0;31m---------------------------------------------------------------------------\u001b[0m",
      "\u001b[0;31mUFuncTypeError\u001b[0m                            Traceback (most recent call last)",
      "\u001b[0;32m<ipython-input-4-f184f0e7f8b0>\u001b[0m in \u001b[0;36m<module>\u001b[0;34m\u001b[0m\n\u001b[1;32m      8\u001b[0m \u001b[0mprint\u001b[0m\u001b[0;34m(\u001b[0m\u001b[0;34m\"b += a: b=>\\n{0}\"\u001b[0m\u001b[0;34m.\u001b[0m\u001b[0mformat\u001b[0m\u001b[0;34m(\u001b[0m\u001b[0mb\u001b[0m\u001b[0;34m)\u001b[0m\u001b[0;34m)\u001b[0m\u001b[0;34m\u001b[0m\u001b[0m\n\u001b[1;32m      9\u001b[0m \u001b[0;34m\u001b[0m\u001b[0m\n\u001b[0;32m---> 10\u001b[0;31m \u001b[0ma\u001b[0m \u001b[0;34m+=\u001b[0m \u001b[0mb\u001b[0m\u001b[0;34m\u001b[0m\u001b[0m\n\u001b[0m\u001b[1;32m     11\u001b[0m \u001b[0mprint\u001b[0m\u001b[0;34m(\u001b[0m\u001b[0;34m\"a += b: a=>\\n{0}\"\u001b[0m\u001b[0;34m.\u001b[0m\u001b[0mformat\u001b[0m\u001b[0;34m(\u001b[0m\u001b[0ma\u001b[0m\u001b[0;34m)\u001b[0m\u001b[0;34m)\u001b[0m\u001b[0;34m\u001b[0m\u001b[0m\n",
      "\u001b[0;31mUFuncTypeError\u001b[0m: Cannot cast ufunc 'add' output from dtype('float64') to dtype('int64') with casting rule 'same_kind'"
     ]
    }
   ],
   "source": [
    "## Operations: += *=\n",
    "a = np.ones((2, 3), dtype=np.int)\n",
    "b = np.random.random( (2,3) )\n",
    "a *= 5\n",
    "print(\"a=>\\n{0}\".format(a))\n",
    "print(\"b=>\\n{0}\".format(b))\n",
    "b += a\n",
    "print(\"b += a: b=>\\n{0}\".format(b))\n",
    " \n",
    "a += b\n",
    "print(\"a += b: a=>\\n{0}\".format(a))"
   ]
  },
  {
   "cell_type": "markdown",
   "metadata": {},
   "source": [
    "## 矩陣的屬性\n",
    "**常用方法-1**\n",
    "* NumPy矩陣本身在初始化之後就內建一些好用的方法！\n",
    "* `sum`：矩陣加總\n",
    "* `min`：矩陣最小值\n",
    "* `max`：矩陣最大值\n",
    "* `mean`：矩陣平均值"
   ]
  },
  {
   "cell_type": "code",
   "execution_count": 8,
   "metadata": {},
   "outputs": [
    {
     "name": "stdout",
     "output_type": "stream",
     "text": [
      "a=>\n",
      "[[0.67762919 0.03247199 0.37042681]\n",
      " [0.17634316 0.39180384 0.16709503]\n",
      " [0.89976409 0.91469205 0.60366088]]\n",
      "\n",
      "sum=>4.233887046623988\n",
      "max=>0.9146920489208394\n",
      "min=>0.032471993558459644\n",
      "mean=>0.47043189406933206\n"
     ]
    }
   ],
   "source": [
    "## Methods: sum, min, max, mean\n",
    "a = np.random.random((3, 3))\n",
    "print(\"a=>\\n{0}\\n\".format(a))\n",
    "print(\"sum=>{0}\\nmax=>{1}\\nmin=>{2}\\nmean=>{3}\".format(a.sum(), a.max(), a.min(), a.mean()))"
   ]
  },
  {
   "cell_type": "markdown",
   "metadata": {},
   "source": [
    "## 矩陣的一些方法\n",
    "**常用方法-2**\n",
    "* `sum`：axis=0或1  算是進階用法，可以指定要加總的維度是哪一個\n",
    "* `cumsum`：這是可以拿來對陣列值做出累計加總的效果，可以用在一維陣列上，數值就可以直接拿來畫出累計趨勢圖喔～"
   ]
  },
  {
   "cell_type": "code",
   "execution_count": 9,
   "metadata": {},
   "outputs": [
    {
     "name": "stdout",
     "output_type": "stream",
     "text": [
      "b=>\n",
      "[[ 0  1  2  3  4  5]\n",
      " [ 6  7  8  9 10 11]]\n",
      "\n",
      "b.sum(axis=0)=>[ 6  8 10 12 14 16]\n",
      "\n",
      "b.sum(axis=0)=>[15 51]\n",
      "\n",
      "revenu=>\n",
      "[[96. 36.  0. 24. 68. 56. 41. 31. 15. 38. 87.  7.]]\n",
      "\n",
      "Cumulative Sum of revenu=>\n",
      "[ 96. 132. 132. 156. 224. 280. 321. 352. 367. 405. 492. 499.]\n"
     ]
    }
   ],
   "source": [
    "b = np.arange(12).reshape(2, 6)\n",
    "print(\"b=>\\n{0}\".format(b))\n",
    " \n",
    "print()\n",
    "# 加總每一欄(column)\n",
    "print(\"b.sum(axis=0)=>{0}\".format(b.sum(axis=0)))\n",
    " \n",
    "print()\n",
    "# 加總每一列(row)\n",
    "print(\"b.sum(axis=0)=>{0}\".format(b.sum(axis=1)))\n",
    " \n",
    "print()\n",
    "revenu = np.round(np.random.random((1,12)) * 100, 0)\n",
    "print(\"revenu=>\\n{0}\".format(revenu))\n",
    " \n",
    "print()\n",
    "# 累計加總(每一項數值等於自己加上前一項)\n",
    "print(\"Cumulative Sum of revenu=>\\n{0}\".format(revenu.cumsum()))"
   ]
  },
  {
   "cell_type": "markdown",
   "metadata": {},
   "source": [
    "**常用方法-3**\n",
    "* np.sqrt：矩陣內所有元素開平方根\n",
    "* np.exp：矩陣內所有元素進行Exponential function(e)運算\n",
    "* np.add：矩陣或陣列相加"
   ]
  },
  {
   "cell_type": "code",
   "execution_count": 12,
   "metadata": {},
   "outputs": [
    {
     "name": "stdout",
     "output_type": "stream",
     "text": [
      "B=> [0 1 2]\n",
      "B_exp=> [1.         2.71828183 7.3890561 ]\n",
      "B_sqrt=> [0.         1.         1.41421356]\n",
      "np.add(B, C)=> [2 2 2]\n"
     ]
    }
   ],
   "source": [
    "B = np.arange(3)\n",
    "print(\"B=> {0}\".format(B))\n",
    "B_exp = np.exp(B)\n",
    "print(\"B_exp=> {0}\".format(B_exp))\n",
    " \n",
    "B_sqrt = np.sqrt(B)\n",
    "print(\"B_sqrt=> {0}\".format(B_sqrt))\n",
    " \n",
    "C = np.array([2, 1, 0])\n",
    "print(\"np.add(B, C)=> {0}\".format(np.add(B, C)))"
   ]
  },
  {
   "cell_type": "markdown",
   "metadata": {},
   "source": [
    "還有很多常用的方法：\n",
    "all, any, apply_along_axis, argmax, argmin, argsort, average, bincount, ceil, clip, conj, corrcoef, cov, cross, cumprod, cumsum, diff, dot, floor, inner, inv, lexsort, max, maximum, mean, median, min, minimum, nonzero, outer, prod, re, round, sort, std, sum, trace, transpose, var, vdot, vectorize, where"
   ]
  },
  {
   "cell_type": "code",
   "execution_count": null,
   "metadata": {},
   "outputs": [],
   "source": []
  }
 ],
 "metadata": {
  "kernelspec": {
   "display_name": "Python 3",
   "language": "python",
   "name": "python3"
  },
  "language_info": {
   "codemirror_mode": {
    "name": "ipython",
    "version": 3
   },
   "file_extension": ".py",
   "mimetype": "text/x-python",
   "name": "python",
   "nbconvert_exporter": "python",
   "pygments_lexer": "ipython3",
   "version": "3.6.0"
  }
 },
 "nbformat": 4,
 "nbformat_minor": 2
}
