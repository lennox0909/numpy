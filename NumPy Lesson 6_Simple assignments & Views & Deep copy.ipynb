{
 "cells": [
  {
   "cell_type": "markdown",
   "metadata": {},
   "source": [
    "# NumPy Tutorial\n",
    "[Source](https://github.com/PoLun-Wang/Learn_NumPy)"
   ]
  },
  {
   "cell_type": "markdown",
   "metadata": {},
   "source": [
    "# Lesson 6: Simple assignments & Views & Deep copy"
   ]
  },
  {
   "cell_type": "code",
   "execution_count": 1,
   "metadata": {},
   "outputs": [],
   "source": [
    "import numpy as np"
   ]
  },
  {
   "cell_type": "markdown",
   "metadata": {},
   "source": [
    "## Simple Assignments\n",
    "**簡易指定**\n",
    "* 簡易指定最主要的概念在於，NumPy會直接把變數的內容以記憶體指標指向你要的內容。\n",
    "因此，這種做法是不會創造新的資料的。有點像是作業系統中軟捷徑的概念！"
   ]
  },
  {
   "cell_type": "code",
   "execution_count": 2,
   "metadata": {},
   "outputs": [
    {
     "name": "stdout",
     "output_type": "stream",
     "text": [
      "b等於a嗎？:True\n",
      "a的形狀:(12,)\n",
      "b的形狀:(12,)\n"
     ]
    }
   ],
   "source": [
    "# 簡易指定並非真正複製內容\n",
    "a = np.arange(12)\n",
    "# This will assign the a's address to b instead of copy the content of a to b.\n",
    "# 這會把a的記憶體位址指定給b, 並非真正複製內容\n",
    "b = a\n",
    "print(\"b等於a嗎？:{0}\".format(b is a))\n",
    "print(\"a的形狀:{0}\".format(a.shape))\n",
    "print(\"b的形狀:{0}\".format(b.shape))"
   ]
  },
  {
   "cell_type": "markdown",
   "metadata": {},
   "source": [
    "* 我們來改變原陣列形狀，看看簡易指定後的變數是否也會跟著改變！！"
   ]
  },
  {
   "cell_type": "code",
   "execution_count": 3,
   "metadata": {},
   "outputs": [
    {
     "name": "stdout",
     "output_type": "stream",
     "text": [
      "\n",
      "改變a的形狀\n",
      "a的形狀:(3, 4)\n",
      "b的形狀:(3, 4)\n"
     ]
    }
   ],
   "source": [
    "# changes the shape of a\n",
    "# 改變a陣列的形狀\n",
    "print(\"\\n改變a的形狀\")\n",
    "a.shape = 3, 4\n",
    "print(\"a的形狀:{0}\".format(a.shape))\n",
    "print(\"b的形狀:{0}\".format(b.shape))"
   ]
  },
  {
   "cell_type": "markdown",
   "metadata": {},
   "source": [
    "* 簡易指定的變數，本質上根本就是指標。\n",
    "* 後續會以『base、flags.owndata』這兩個屬性來比較view(淺拷貝, shadow copy)與深拷貝(deep copy)之間的差異。"
   ]
  },
  {
   "cell_type": "code",
   "execution_count": 4,
   "metadata": {},
   "outputs": [
    {
     "name": "stdout",
     "output_type": "stream",
     "text": [
      "The array of features of simple assignments:\n",
      "簡單指定陣列的特性:\n",
      "\tb is a:? True\n",
      "\tb is base on who:? None\n",
      "\tb.flags.owndata:? True\n"
     ]
    }
   ],
   "source": [
    "print(\"The array of features of simple assignments:\")\n",
    "print(\"簡單指定陣列的特性:\")\n",
    "print(\"\\tb is a:? {0}\".format(b is a))\n",
    "print(\"\\tb is base on who:? {0}\".format(b.base))\n",
    "print(\"\\tb.flags.owndata:? {0}\".format(b.flags.owndata))"
   ]
  },
  {
   "cell_type": "markdown",
   "metadata": {},
   "source": [
    "## View / Shallow Copy\n",
    "**檢視/淺拷貝**\n",
    "* 檢視就是淺拷貝，跟簡易指定很相似，但是相較起來檢視會比較正式喔！\n",
    "* 首先，先把陣列宣告好～"
   ]
  },
  {
   "cell_type": "code",
   "execution_count": 2,
   "metadata": {},
   "outputs": [
    {
     "name": "stdout",
     "output_type": "stream",
     "text": [
      "a=>\n",
      "[ 0  1  2  3  4  5  6  7  8  9 10 11]\n",
      "c=>\n",
      "[ 0  1  2  3  4  5  6  7  8  9 10 11]\n",
      "\n",
      "c.shape=3,4\n",
      "c=>\n",
      "[[ 0  1  2  3]\n",
      " [ 4  5  6  7]\n",
      " [ 8  9 10 11]]\n",
      "a=>\n",
      "[ 0  1  2  3  4  5  6  7  8  9 10 11]\n"
     ]
    }
   ],
   "source": [
    "# View or Shallow Copy\n",
    "# 檢視/淺拷貝\n",
    "\n",
    "# View\n",
    "# 檢視\n",
    "a = np.arange(12)\n",
    "c = a.view()\n",
    "print(\"a=>\\n{0}\".format(a))\n",
    "print(\"c=>\\n{0}\".format(c))\n",
    "\n",
    "print()\n",
    "# Changes the shape of c.\n",
    "# 改變c陣列的形狀\n",
    "c.shape = 3, 4\n",
    "print(\"c.shape=3,4\\nc=>\\n{0}\".format(c))\n",
    "print(\"a=>\\n{0}\".format(a))"
   ]
  },
  {
   "cell_type": "markdown",
   "metadata": {},
   "source": [
    "* (1)變更c的形狀、(2)變更c[1, 2]的內容，來觀察a是否也會改變！"
   ]
  },
  {
   "cell_type": "code",
   "execution_count": 3,
   "metadata": {},
   "outputs": [
    {
     "name": "stdout",
     "output_type": "stream",
     "text": [
      "\n",
      "c.shape=3,4\n",
      "c=>\n",
      "[[ 0  1  2  3]\n",
      " [ 4  5  6  7]\n",
      " [ 8  9 10 11]]\n",
      "a=>\n",
      "[ 0  1  2  3  4  5  6  7  8  9 10 11]\n",
      "\n",
      "c[1,2]=999\n",
      "c=>\n",
      "[[  0   1   2   3]\n",
      " [  4   5 999   7]\n",
      " [  8   9  10  11]]\n",
      "a=>\n",
      "[  0   1   2   3   4   5 999   7   8   9  10  11]\n",
      "\n",
      "s=c[:, 1:3]\n",
      "s=>\n",
      "[[  1   2]\n",
      " [  5 999]\n",
      " [  9  10]]\n",
      "s[:] = 10\n",
      "s=>\n",
      "[[10 10]\n",
      " [10 10]\n",
      " [10 10]]\n",
      "c=>\n",
      "[[ 0 10 10  3]\n",
      " [ 4 10 10  7]\n",
      " [ 8 10 10 11]]\n",
      "a=>\n",
      "[ 0 10 10  3  4 10 10  7  8 10 10 11]\n"
     ]
    }
   ],
   "source": [
    "print()\n",
    "# Changes the shape of c.\n",
    "# 改變c陣列的形狀\n",
    "c.shape = 3, 4\n",
    "print(\"c.shape=3,4\\nc=>\\n{0}\".format(c))\n",
    "print(\"a=>\\n{0}\".format(a))\n",
    "\n",
    "print()\n",
    "# Let's change some element value of c.\n",
    "# 來變更c的元素值看看\n",
    "c[1,2] = 999\n",
    "print(\"c[1,2]=999\\nc=>\\n{0}\".format(c))\n",
    "print(\"a=>\\n{0}\".format(a))\n",
    "\n",
    "print()\n",
    "# Slices an array will return a view of it.\n",
    "# If you change elements' value of the view, the related elements' value of source array will be changed simultaneously.\n",
    "# 對陣列/矩陣切片,會回傳檢視喔!\n",
    "# 如果你更改了檢視的元素值,來源陣列的相對應的元素值也會同時被改變!\n",
    "s = c[:, 1:3]\n",
    "print(\"s=c[:, 1:3]\\ns=>\\n{0}\".format(s))\n",
    "s[:] = 10\n",
    "print(\"s[:] = 10\\ns=>\\n{0}\".format(s))\n",
    "print(\"c=>\\n{0}\".format(c))\n",
    "print(\"a=>\\n{0}\".format(a))"
   ]
  },
  {
   "cell_type": "markdown",
   "metadata": {},
   "source": [
    "* 查看『base、flags.owndata』之後可以發現，檢視和簡易指定的差別在於owndata。\n",
    "* 檢視的owndata值是False，代表檢視沒有自己的記憶體儲存空間，所以它是去參考別人的啦。(其實我也不太懂為何這個差異會造成使用上的差別)  原文解釋在這：[numpy.ndarray.flags](https://docs.scipy.org/doc/numpy/reference/generated/numpy.ndarray.flags.html)\n",
    "\n",
    "* 此外，檢視(view)和簡易指定(simple assignments)使用上的差異在於，`更改檢視的形狀是不會影響原本的參考來源變數的形狀喔！(可以看一下前面的例子)`"
   ]
  },
  {
   "cell_type": "code",
   "execution_count": 4,
   "metadata": {},
   "outputs": [
    {
     "name": "stdout",
     "output_type": "stream",
     "text": [
      "\n",
      "The Features of View:\n",
      "View的特性:\n",
      "\tc is a:? False\n",
      "\tc is base on who:? [ 0 10 10  3  4 10 10  7  8 10 10 11]\n",
      "\tc.flags.owndata:? False\n"
     ]
    }
   ],
   "source": [
    "print()\n",
    "print(\"The Features of View:\")\n",
    "print(\"View的特性:\")\n",
    "print(\"\\tc is a:? {0}\".format(c is a))\n",
    "print(\"\\tc is base on who:? {0}\".format(c.base))\n",
    "print(\"\\tc.flags.owndata:? {0}\".format(c.flags.owndata))"
   ]
  },
  {
   "cell_type": "markdown",
   "metadata": {},
   "source": [
    "## Deep Copy\n",
    "**深度拷貝**\n",
    "* 深度拷貝和上述簡易指定與檢視最大不同之處在於，深度拷貝會建立一個完全獨立的物件，包括記憶體空間。\n",
    "* 所以，`變數b並沒有參考任何變數！b.base會顯示None`。\n",
    "\n",
    "* numpy.ndarray.base：如果有參考其他物件的記憶體時，會顯示"
   ]
  },
  {
   "cell_type": "code",
   "execution_count": 8,
   "metadata": {},
   "outputs": [
    {
     "name": "stdout",
     "output_type": "stream",
     "text": [
      "a=>[ 0  1  2  3  4  5  6  7  8  9 10 11]\n",
      "b=>[ 0  1  2  3  4  5  6  7  8  9 10 11]\n",
      "\n",
      "The Features of Deep Copy:\n",
      "Deep Copy的特性:\n",
      "b is a:? False\n",
      "b is base on who:? None\n",
      "b.flags.owndata:? True\n"
     ]
    }
   ],
   "source": [
    "##深度拷貝\n",
    "a = np.arange(12)\n",
    "b = a.copy()\n",
    "print(\"a=>{0}\".format(a))\n",
    "print(\"b=>{0}\".format(b))\n",
    "\n",
    "print()\n",
    "print(\"The Features of Deep Copy:\")\n",
    "print(\"Deep Copy的特性:\")\n",
    "print(\"b is a:? {0}\".format(b is a))\n",
    "print(\"b is base on who:? {0}\".format(b.base))\n",
    "print(\"b.flags.owndata:? {0}\".format(b.flags.owndata))"
   ]
  },
  {
   "cell_type": "markdown",
   "metadata": {},
   "source": [
    "* 來測試一下！"
   ]
  },
  {
   "cell_type": "code",
   "execution_count": 9,
   "metadata": {},
   "outputs": [
    {
     "name": "stdout",
     "output_type": "stream",
     "text": [
      "\n",
      "b[5] = 999\n",
      "b=> [ 0  1  2  3  4 99  6  7  8  9 10 11]\n",
      "a=> [ 0  1  2  3  4  5  6  7  8  9 10 11]\n",
      "\n",
      "b.shape = 2,6\n",
      "b=>\n",
      "[[ 0  1  2  3  4 99]\n",
      " [ 6  7  8  9 10 11]]\n",
      "a=> [ 0  1  2  3  4  5  6  7  8  9 10 11]\n"
     ]
    }
   ],
   "source": [
    "print()\n",
    "b[5] = 99\n",
    "print(\"b[5] = 999\\nb=> {0}\".format(b))\n",
    "print(\"a=> {0}\".format(a))\n",
    "\n",
    "print()\n",
    "b.shape = 2, 6\n",
    "print(\"b.shape = 2,6\\nb=>\\n{0}\".format(b))\n",
    "print(\"a=> {0}\".format(a))"
   ]
  }
 ],
 "metadata": {
  "kernelspec": {
   "display_name": "Python 3",
   "language": "python",
   "name": "python3"
  },
  "language_info": {
   "codemirror_mode": {
    "name": "ipython",
    "version": 3
   },
   "file_extension": ".py",
   "mimetype": "text/x-python",
   "name": "python",
   "nbconvert_exporter": "python",
   "pygments_lexer": "ipython3",
   "version": "3.6.0"
  }
 },
 "nbformat": 4,
 "nbformat_minor": 2
}
