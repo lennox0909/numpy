{
 "cells": [
  {
   "cell_type": "markdown",
   "metadata": {},
   "source": [
    "# NumPy Tutorial\n",
    "[Source](https://github.com/PoLun-Wang/Learn_NumPy)"
   ]
  },
  {
   "cell_type": "markdown",
   "metadata": {},
   "source": [
    "# Lesson 5: Shape Manipulation & Stack & Split matrices"
   ]
  },
  {
   "cell_type": "code",
   "execution_count": 1,
   "metadata": {},
   "outputs": [],
   "source": [
    "import numpy as np"
   ]
  },
  {
   "cell_type": "markdown",
   "metadata": {},
   "source": [
    "## Shape Manipulation\n",
    "**形狀操作(Shape Manipulation)**\n",
    "* 矩陣的形狀(shape)很重要！尤其是再進行科學運算時，最常用到矩陣運算！\n",
    "* 不過，強大的NumPy中提供了很多改變矩陣形狀的功能，可以滿足開發者的需求！\n",
    "* **np.reshape(a, b)**：這是最基本的塑形功能，可以直接將陣列重新塑形成`a-by-b`或是更高維度的形狀！"
   ]
  },
  {
   "cell_type": "code",
   "execution_count": 2,
   "metadata": {},
   "outputs": [
    {
     "name": "stdout",
     "output_type": "stream",
     "text": [
      "a =>\n",
      " [[ 1  2  3  4  5  6  7  8  9 10]\n",
      " [11 12 13 14 15 16 17 18 19 20]\n",
      " [21 22 23 24 25 26 27 28 29 30]\n",
      " [31 32 33 34 35 36 37 38 39 40]\n",
      " [41 42 43 44 45 46 47 48 49 50]]\n",
      "a.shape: (5, 10)\n"
     ]
    }
   ],
   "source": [
    "a = np.arange(1, 51).reshape(5, 10)\n",
    "print(\"a =>\\n\",format(a))\n",
    "print(\"a.shape:\",format(a.shape))"
   ]
  },
  {
   "cell_type": "markdown",
   "metadata": {},
   "source": [
    "* **np.reshape(a, b, -1)**：使用`-1`，代表這個維度就交給NumPy自動計算！"
   ]
  },
  {
   "cell_type": "code",
   "execution_count": 3,
   "metadata": {},
   "outputs": [
    {
     "name": "stdout",
     "output_type": "stream",
     "text": [
      "a.reshape(5, 2, 5)=>\n",
      "[[[ 1  2  3  4  5]\n",
      "  [ 6  7  8  9 10]]\n",
      "\n",
      " [[11 12 13 14 15]\n",
      "  [16 17 18 19 20]]\n",
      "\n",
      " [[21 22 23 24 25]\n",
      "  [26 27 28 29 30]]\n",
      "\n",
      " [[31 32 33 34 35]\n",
      "  [36 37 38 39 40]]\n",
      "\n",
      " [[41 42 43 44 45]\n",
      "  [46 47 48 49 50]]]\n",
      "\n",
      "a.reshape(5, 2, -1)=>\n",
      "[[[ 1  2  3  4  5]\n",
      "  [ 6  7  8  9 10]]\n",
      "\n",
      " [[11 12 13 14 15]\n",
      "  [16 17 18 19 20]]\n",
      "\n",
      " [[21 22 23 24 25]\n",
      "  [26 27 28 29 30]]\n",
      "\n",
      " [[31 32 33 34 35]\n",
      "  [36 37 38 39 40]]\n",
      "\n",
      " [[41 42 43 44 45]\n",
      "  [46 47 48 49 50]]]\n"
     ]
    }
   ],
   "source": [
    "a = np.arange(1, 51).reshape(5, 10)\n",
    "print(\"a.reshape(5, 2, 5)=>\\n{0}\".format(a.reshape(5, 2, 5)))\n",
    "\n",
    "print()\n",
    "#效果會跟.reshape(5, 2, 5)是一樣的，因為NumPy算得出來！\n",
    "print(\"a.reshape(5, 2, -1)=>\\n{0}\".format(a.reshape(5, 2, -1)))"
   ]
  },
  {
   "cell_type": "markdown",
   "metadata": {},
   "source": [
    "* **np.ravel()**：此功能會回傳一個將陣列或矩陣經扁平化(flattened)處理後的陣列"
   ]
  },
  {
   "cell_type": "code",
   "execution_count": 4,
   "metadata": {},
   "outputs": [
    {
     "name": "stdout",
     "output_type": "stream",
     "text": [
      "a.ravel()=> [ 1  2  3  4  5  6  7  8  9 10 11 12 13 14 15 16 17 18 19 20 21 22 23 24\n",
      " 25 26 27 28 29 30 31 32 33 34 35 36 37 38 39 40 41 42 43 44 45 46 47 48\n",
      " 49 50]\n"
     ]
    }
   ],
   "source": [
    "a = np.arange(1, 51).reshape(5, 10)\n",
    "print(\"a.ravel()=> {0}\".format(a.ravel()))"
   ]
  },
  {
   "cell_type": "markdown",
   "metadata": {},
   "source": [
    "$b=\\begin{bmatrix}1 & 2 & 3\\\\\n",
    "4 & 5 & 6\n",
    "\\end{bmatrix}^T=\\begin{bmatrix}1 & 4\\\\\n",
    "2 & 5\\\\\n",
    "3 & 6\n",
    "\\end{bmatrix}$"
   ]
  },
  {
   "cell_type": "markdown",
   "metadata": {},
   "source": [
    "* **ndarray.T**：轉置矩陣(transpose)   `注意喔！這是屬性！`"
   ]
  },
  {
   "cell_type": "code",
   "execution_count": 5,
   "metadata": {},
   "outputs": [
    {
     "name": "stdout",
     "output_type": "stream",
     "text": [
      "b =>\n",
      "[[1 2 3]\n",
      " [4 5 6]]\n",
      "\n",
      "轉置矩陣b(Transpose b.)\n",
      "=>\n",
      "[[1 4]\n",
      " [2 5]\n",
      " [3 6]]\n"
     ]
    }
   ],
   "source": [
    "b = np.arange(1, 7).reshape(2, 3)\n",
    "print(\"b =>\\n{0}\".format(b))\n",
    "\n",
    "print()\n",
    "print(\"轉置矩陣b(Transpose b.)\\n=>\\n{0}\".format(b.T))"
   ]
  },
  {
   "cell_type": "markdown",
   "metadata": {},
   "source": [
    "## 矩陣堆疊\n",
    "**矩陣堆疊(Stacking)**\n",
    "* 這還蠻常用到的…這功能可以方便運算時矩陣串接的需求！\n",
    "\n",
    "* **np.vstack(a, b)**：將a, b矩陣沿著`垂直軸`堆疊！\n",
    "* **np.hstack(a, b)**：將a, b矩陣沿著`水平軸`堆疊！"
   ]
  },
  {
   "cell_type": "code",
   "execution_count": 7,
   "metadata": {},
   "outputs": [
    {
     "name": "stdout",
     "output_type": "stream",
     "text": [
      "a=>\n",
      "[[ 1  2  3  4  5]\n",
      " [ 6  7  8  9 10]]\n",
      "\n",
      "np.vstack((a,a))=>\n",
      "[[ 1  2  3  4  5  1  2  3  4  5]\n",
      " [ 6  7  8  9 10  6  7  8  9 10]]\n",
      "\n",
      "np.hstack((a,a))=>\n",
      "[[ 1  2  3  4  5]\n",
      " [ 6  7  8  9 10]\n",
      " [ 1  2  3  4  5]\n",
      " [ 6  7  8  9 10]]\n"
     ]
    }
   ],
   "source": [
    "a = np.arange(1,11).reshape(2,5)\n",
    "print(\"a=>\\n{0}\".format(a))\n",
    "\n",
    "print()\n",
    "# 水平堆疊\n",
    "print(\"np.vstack((a,a))=>\\n{0}\".format(np.hstack((a,a))))\n",
    "\n",
    "print()\n",
    "# 垂直堆疊\n",
    "print(\"np.hstack((a,a))=>\\n{0}\".format(np.vstack((a,a))))"
   ]
  },
  {
   "cell_type": "markdown",
   "metadata": {},
   "source": [
    "## 矩陣分割\n",
    "**矩陣分割(Splitting)**\n",
    "* 將一個陣列或矩陣分割成多個小的矩陣或陣列！\n",
    "\n",
    "* **np.hsplit( matrix, shape/number )**：將matrix沿著自己的`水平軸`分割成指定的形狀(shape)或數量(number)\n",
    "* **np.vsplit( matrix, shape/number )**：將matrix沿著自己的`垂直軸`分割成指定的形狀(shape)或數量(number)\n",
    "\n",
    "* 這個函數回傳型別是`list`！如果還想要利用NumPy的對它操作的話，要把它轉換成numpy.ndarray才行！"
   ]
  },
  {
   "cell_type": "code",
   "execution_count": 20,
   "metadata": {},
   "outputs": [
    {
     "name": "stdout",
     "output_type": "stream",
     "text": [
      "a=>\n",
      "[[ 10  20  30  40  50  60]\n",
      " [ 70  80  90 100 110 120]]\n",
      "\n",
      "----hsplit----\n",
      "output1=>\n",
      "[array([[10, 20],\n",
      "       [70, 80]]), array([[ 30,  40],\n",
      "       [ 90, 100]]), array([[ 50,  60],\n",
      "       [110, 120]])]\n",
      "np.hsplit(a, 3) [0]=>\n",
      "[[10 20]\n",
      " [70 80]]\n",
      "np.hsplit(a, 3) [1]=>\n",
      "[[ 30  40]\n",
      " [ 90 100]]\n",
      "np.hsplit(a, 3) [2]=>\n",
      "[[ 50  60]\n",
      " [110 120]]\n",
      "Type of output1: <class 'list'>\n",
      "Shape of output1: (3, 2, 2)\n",
      "\n",
      "----vsplit----\n",
      "np.vsplit(a, 2) [0]=>[[10 20 30 40 50 60]]\n",
      "np.vsplit(a, 2) [1]=>[[ 70  80  90 100 110 120]]\n",
      "\n",
      "Type of output2: <class 'list'>\n",
      "Shape of output2: (2, 1, 6)\n"
     ]
    }
   ],
   "source": [
    "a = np.round(np.arange(1, 13).reshape(2, 6)*10, 0)\n",
    "print(\"a=>\\n{0}\".format(a))\n",
    "\n",
    "print()\n",
    "print(\"----hsplit----\")\n",
    "output1 = np.hsplit(a, 3)\n",
    "print(\"output1=>\\n{0}\".format(output1))\n",
    "i = 0\n",
    "for smallMatrix in output1:\n",
    "    print(\"np.hsplit(a, 3) [{0}]=>\\n{1}\".format(i, smallMatrix))\n",
    "    i+=1\n",
    "\n",
    "print(\"Type of output1: {0}\".format(type(output1)))\n",
    "newOutput1 = np.array(output1)\n",
    "print(\"Shape of output1: {0}\".format(newOutput1.shape))\n",
    "\n",
    "print()\n",
    "print(\"----vsplit----\")\n",
    "output2 = np.vsplit(a, 2)\n",
    "i = 0\n",
    "for smallMatrix in output2:\n",
    "    print(\"np.vsplit(a, 2) [{0}]=>{1}\".format(i, smallMatrix))\n",
    "    i+=1\n",
    "print()\n",
    "print(\"Type of output2: {0}\".format(type(output2)))\n",
    "newOutput2 = np.array(output2)\n",
    "print(\"Shape of output2: {0}\".format(newOutput2.shape))"
   ]
  },
  {
   "cell_type": "code",
   "execution_count": null,
   "metadata": {},
   "outputs": [],
   "source": []
  }
 ],
 "metadata": {
  "kernelspec": {
   "display_name": "Python 3",
   "language": "python",
   "name": "python3"
  },
  "language_info": {
   "codemirror_mode": {
    "name": "ipython",
    "version": 3
   },
   "file_extension": ".py",
   "mimetype": "text/x-python",
   "name": "python",
   "nbconvert_exporter": "python",
   "pygments_lexer": "ipython3",
   "version": "3.6.0"
  }
 },
 "nbformat": 4,
 "nbformat_minor": 2
}
