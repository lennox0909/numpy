{
 "cells": [
  {
   "cell_type": "markdown",
   "metadata": {},
   "source": [
    "# NumPy Tutorial\n",
    "[Source](https://github.com/PoLun-Wang/Learn_NumPy)"
   ]
  },
  {
   "cell_type": "markdown",
   "metadata": {},
   "source": [
    "# Lesson 2: How to print array? & Format settings\n",
    "\n",
    "## 基本列印\n",
    "\n",
    "### 直接print( )\n",
    "* 下列會給三種陣列預設列印出來的樣子，三種陣列分別是1維、2維、3維 。\n",
    "* 在下列範例會使用到一個函數reshape( )，這個函數是用來對NumPy的陣列進行改變維度的工具！\n",
    "* np.reshape(<欲將陣列改變成維度的大小>)：np.reshape(1, 2)表示要改成1-by-2的矩陣。\n",
    "\n",
    "**1維陣列**"
   ]
  },
  {
   "cell_type": "code",
   "execution_count": 2,
   "metadata": {},
   "outputs": [],
   "source": [
    "import numpy as np"
   ]
  },
  {
   "cell_type": "code",
   "execution_count": 19,
   "metadata": {},
   "outputs": [
    {
     "name": "stdout",
     "output_type": "stream",
     "text": [
      "[0 1 2 3 4 5]\n"
     ]
    }
   ],
   "source": [
    "# 1維\n",
    "a = np.arange(6)\n",
    "print(a)"
   ]
  },
  {
   "cell_type": "markdown",
   "metadata": {},
   "source": [
    "**2維陣列**"
   ]
  },
  {
   "cell_type": "code",
   "execution_count": 20,
   "metadata": {},
   "outputs": [
    {
     "name": "stdout",
     "output_type": "stream",
     "text": [
      "[[ 0  1  2  3  4  5]\n",
      " [ 6  7  8  9 10 11]]\n"
     ]
    }
   ],
   "source": [
    "# 2維\n",
    "b = np.arange(12).reshape(2, 6)\n",
    "print(b)"
   ]
  },
  {
   "cell_type": "markdown",
   "metadata": {},
   "source": [
    "**3維陣列**"
   ]
  },
  {
   "cell_type": "code",
   "execution_count": 21,
   "metadata": {},
   "outputs": [
    {
     "name": "stdout",
     "output_type": "stream",
     "text": [
      "[[[ 0  1  2]\n",
      "  [ 3  4  5]\n",
      "  [ 6  7  8]\n",
      "  [ 9 10 11]]\n",
      "\n",
      " [[12 13 14]\n",
      "  [15 16 17]\n",
      "  [18 19 20]\n",
      "  [21 22 23]]]\n"
     ]
    }
   ],
   "source": [
    "# 3維\n",
    "c = np.arange(24).reshape(2,4,3)\n",
    "print(c)"
   ]
  },
  {
   "cell_type": "markdown",
   "metadata": {},
   "source": [
    "### 自訂列印選項\n",
    "**NumPy列印有很多可自訂選項**\n",
    "* **np.set_printoptions( 列印選項 )**：這是一個全域設定，以下會說明各個不同的選項代表的意義與控制的項目。\n",
    "\n",
    "* **np.set_printoptions( threshold=元素門檻值 )**：NumPy預設值是1000。意思是如果陣列元素值沒有超過門檻值的話，NumPy就會讓Python將所有元素列印出來！\n",
    "當陣列元素數量到達一定量的時候，就可能會需要用到這個方法！"
   ]
  },
  {
   "cell_type": "code",
   "execution_count": 23,
   "metadata": {},
   "outputs": [
    {
     "name": "stdout",
     "output_type": "stream",
     "text": [
      "NumPy set_printoptions(threshold=20)\n",
      " [ 0  1  2  3  4  5  6  7  8  9 10 11 12 13 14 15 16 17 18 19]\n",
      "\n",
      "NumPy set_printoptions(threshold=15)\n",
      " [ 0  1  2 ... 17 18 19]\n"
     ]
    }
   ],
   "source": [
    "np.set_printoptions(precision=None, threshold=None, edgeitems=None, linewidth=None, \n",
    "                    suppress=None, nanstr=None, infstr=None, formatter=None, \n",
    "                    sign=None, floatmode=None)  # reset print options\n",
    "##threshold\n",
    "# 當要列印的陣列太大時，NumPy會自動以...代替一部分的內容，以減少篇幅！\n",
    "# 但是可以透過全域設定set_printoptions設定threshold(門檻值)，\n",
    "# 元素數量少於或等於門檻值的陣列就會全部列印出來，\n",
    "# 相反地，元素數量高於門檻值，列印時就會省略部分內容。\n",
    "# 陣列大小:20，門檻值20 => 陣列元素數量小於等於門檻值，應列印全部內容\n",
    "np.set_printoptions(threshold=20)\n",
    "print(\"NumPy set_printoptions(threshold=20)\\n\", np.arange(20))\n",
    "print()\n",
    "# 陣列大小:20，門檻值15 => 陣列元素數量大於門檻值，應省略部分內容\n",
    "np.set_printoptions(threshold=15)\n",
    "print(\"NumPy set_printoptions(threshold=15)\\n\", np.arange(20))"
   ]
  },
  {
   "cell_type": "markdown",
   "metadata": {},
   "source": [
    "* **np.set_printoptions( precision=浮點數列印精度 )**：控制陣列內容微幅點數時的列印精度(小數位數)，下列範例看得出來這個方法是會自動四捨五入的喔！"
   ]
  },
  {
   "cell_type": "code",
   "execution_count": 24,
   "metadata": {},
   "outputs": [
    {
     "name": "stdout",
     "output_type": "stream",
     "text": [
      "NumPy set_printoptions(precision=1)\n",
      " [3.  3.2 3.4 3.7 3.9 4.1 4.3 4.6 4.8 5. ]\n",
      "\n",
      "NumPy set_printoptions(precision=3)\n",
      " [3.    3.222 3.444 3.667 3.889 4.111 4.333 4.556 4.778 5.   ]\n"
     ]
    }
   ],
   "source": [
    "np.set_printoptions(precision=None, threshold=None, edgeitems=None, linewidth=None, \n",
    "                    suppress=None, nanstr=None, infstr=None, formatter=None, \n",
    "                    sign=None, floatmode=None)  # reset print options\n",
    "## precision:控制陣列內容微幅點數時的列印精度(小數位數)\n",
    "np.set_printoptions(precision=1)\n",
    "print(\"NumPy set_printoptions(precision=1)\\n\", np.linspace(3, 5, 10))\n",
    "print()\n",
    "np.set_printoptions(precision=3)\n",
    "print(\"NumPy set_printoptions(precision=3)\\n\", np.linspace(3, 5, 10))"
   ]
  },
  {
   "cell_type": "markdown",
   "metadata": {},
   "source": [
    "* **np.set_printoptions( edgeitems=省略列印內容時要顯示的元素數量 )**：當列印陣列時需要省略內容，edgeitems會決定要印出來的元素有幾個。"
   ]
  },
  {
   "cell_type": "code",
   "execution_count": 25,
   "metadata": {},
   "outputs": [
    {
     "name": "stdout",
     "output_type": "stream",
     "text": [
      "NumPy set_printoptions(edgeitems=3)\n",
      " [ 0  1  2 ... 12 13 14]\n",
      "\n",
      "NumPy set_printoptions(edgeitems=5)\n",
      " [ 0  1  2  3  4 ... 10 11 12 13 14]\n"
     ]
    }
   ],
   "source": [
    "np.set_printoptions(precision=None, threshold=None, edgeitems=None, linewidth=None, \n",
    "                    suppress=None, nanstr=None, infstr=None, formatter=None, \n",
    "                    sign=None, floatmode=None)  # reset print options\n",
    "## edgeitems:當列印陣列時需要省略內容，edgeitems會決定要印出來的元素有幾個\n",
    "np.set_printoptions(threshold=10, edgeitems=3)\n",
    "print(\"NumPy set_printoptions(edgeitems=3)\\n\", np.arange(15))\n",
    "print()\n",
    "np.set_printoptions(threshold=10, edgeitems=5)\n",
    "print(\"NumPy set_printoptions(edgeitems=5)\\n\", np.arange(15))"
   ]
  },
  {
   "cell_type": "markdown",
   "metadata": {},
   "source": [
    "* **np.set_printoptions( linewidth=每一行要印出幾個字元 )**：這只是單純決定列印陣列時每一行字的字元數上限喔，並不影響列印其他內容的每一行字元數上限！"
   ]
  },
  {
   "cell_type": "code",
   "execution_count": 26,
   "metadata": {},
   "outputs": [
    {
     "name": "stdout",
     "output_type": "stream",
     "text": [
      "NumPy set_printoptions(linewidth=10)\n",
      " [ 0  1  2\n",
      "  3  4\n",
      " ... 10\n",
      " 11 12 13\n",
      " 14]\n",
      "\n",
      "NumPy set_printoptions(linewidth=25)\n",
      " [ 0  1  2  3  4 ...\n",
      " 10 11 12 13 14]\n"
     ]
    }
   ],
   "source": [
    "np.set_printoptions(precision=None, threshold=None, edgeitems=None, linewidth=None, \n",
    "                    suppress=None, nanstr=None, infstr=None, formatter=None, \n",
    "                    sign=None, floatmode=None)  # reset print options\n",
    "## linewidth\n",
    "np.set_printoptions(linewidth=10)\n",
    "print(\"NumPy set_printoptions(linewidth=10)\\n\", np.arange(15))\n",
    "print()\n",
    "np.set_printoptions(linewidth=20)\n",
    "print(\"NumPy set_printoptions(linewidth=25)\\n\", np.arange(15))"
   ]
  },
  {
   "cell_type": "markdown",
   "metadata": {},
   "source": [
    "* **np.set_printoptions( suppress=是否要抑制顯示小數位 )**：其實這個我不太知道該怎麼解釋才夠完全，但我對這個功能的理解是用來“抑制顯示小數位數”，而預設值是False(代表不要抑制顯示小數位，就是通通給我顯示)。"
   ]
  },
  {
   "cell_type": "code",
   "execution_count": 27,
   "metadata": {},
   "outputs": [
    {
     "name": "stdout",
     "output_type": "stream",
     "text": [
      "NumPy set_printoptions(suppress=True)\n",
      " [0. 0. 0. 0. 0. ...\n",
      " 1. 1. 1. 1. 1.]\n",
      "\n",
      "NumPy set_printoptions(suppress=False)\n",
      " [0.e+00 1.e-05\n",
      " 2.e-05 3.e-05\n",
      " 4.e-05 ... 1.e+00\n",
      " 1.e+00 1.e+00\n",
      " 1.e+00 1.e+00]\n"
     ]
    }
   ],
   "source": [
    "np.set_printoptions(precision=None, threshold=None, edgeitems=None, linewidth=None, \n",
    "                    suppress=None, nanstr=None, infstr=None, formatter=None, \n",
    "                    sign=None, floatmode=None)  # reset print options\n",
    "# suppress\n",
    "np.set_printoptions(suppress=True)\n",
    "print(\"NumPy set_printoptions(suppress=True)\\n\", np.arange(0, 1, 0.00001))\n",
    "print()\n",
    "np.set_printoptions(suppress=False)\n",
    "print(\"NumPy set_printoptions(suppress=False)\\n\", np.arange(0, 1, 0.00001))"
   ]
  },
  {
   "cell_type": "markdown",
   "metadata": {},
   "source": [
    "* **np.set_printoptions( nanstr=當陣列元素值出現NaN時所顯示的字串 )**：當陣列元素值出現not-a-number時要顯示的內容為何。沒錯，這個也可以改！"
   ]
  },
  {
   "cell_type": "code",
   "execution_count": 30,
   "metadata": {},
   "outputs": [
    {
     "name": "stdout",
     "output_type": "stream",
     "text": [
      "NumPy set_printoptions(nanstr=\"Oops!\")\n",
      " [Oops!    1. Oops!]\n"
     ]
    }
   ],
   "source": [
    "np.set_printoptions(precision=None, threshold=None, edgeitems=None, linewidth=None, \n",
    "                    suppress=None, nanstr=None, infstr=None, formatter=None, \n",
    "                    sign=None, floatmode=None)  # reset print options\n",
    "## nanstr\n",
    "# 當陣列元素值出現not-a-number時要顯示的內容為何\n",
    "np.set_printoptions(nanstr=\"Oops!\")\n",
    "a = np.array([np.nan, 1, np.nan], dtype=np.float16)\n",
    "print(\"NumPy set_printoptions(nanstr=\\\"Oops!\\\")\\n\", a)"
   ]
  },
  {
   "cell_type": "markdown",
   "metadata": {},
   "source": [
    "* **np.set_printoptions( infstr=當陣列元素值出現inf時所顯示的字串 )**：當陣列元素值出現 **inf(無限大)** 時要顯示的內容為何。"
   ]
  },
  {
   "cell_type": "code",
   "execution_count": 33,
   "metadata": {},
   "outputs": [
    {
     "name": "stdout",
     "output_type": "stream",
     "text": [
      "NumPy set_printoptions(infstr=\"∞\")\n",
      " [    ∞    8.    -∞]\n"
     ]
    }
   ],
   "source": [
    "np.set_printoptions(precision=None, threshold=None, edgeitems=None, linewidth=None, \n",
    "                    suppress=None, nanstr=None, infstr=None, formatter=None, \n",
    "                    sign=None, floatmode=None)  # reset print options\n",
    "## infstr\n",
    "# 當陣列元素值出現inf(無限大)時要顯示的內容為何\n",
    "np.set_printoptions(infstr=\"∞\")\n",
    "a = np.array([np.inf, 8, -np.inf])\n",
    "print(\"NumPy set_printoptions(infstr=\\\"∞\\\")\\n\", a)"
   ]
  },
  {
   "cell_type": "markdown",
   "metadata": {},
   "source": [
    "* **np.set_printoptions( sign=控制正負號 )**：當sign=’+’時，就會連正數都會加上正號；當sign=’-‘時(預設值)，就是只有數值<0時，才會加上負號！"
   ]
  },
  {
   "cell_type": "code",
   "execution_count": 34,
   "metadata": {},
   "outputs": [
    {
     "name": "stdout",
     "output_type": "stream",
     "text": [
      "NumPy set_printoptions(sign=\"+\")\n",
      " [+9. +8. -6. -7.]\n",
      "\n",
      "NumPy set_printoptions(sign=\"-\")\n",
      " [ 9.  8. -6. -7.]\n"
     ]
    }
   ],
   "source": [
    "np.set_printoptions(precision=None, threshold=None, edgeitems=None, linewidth=None, \n",
    "                    suppress=None, nanstr=None, infstr=None, formatter=None, \n",
    "                    sign=None, floatmode=None)  # reset print options\n",
    "## sign\n",
    "# 當sign='+'時，就會連正數都會加上正號\n",
    "np.set_printoptions(sign='+')\n",
    "a = np.array([9, 8, -6, -7], dtype=np.float16)\n",
    "print(\"NumPy set_printoptions(sign=\\\"+\\\")\\n\", a)\n",
    "print()\n",
    "# 當sign='-'時(預設值)，就是只有數值<0時，才會加上負號\n",
    "np.set_printoptions(sign='-')\n",
    "a = np.array([9, 8, -6, -7], dtype=np.float16)\n",
    "print(\"NumPy set_printoptions(sign=\\\"-\\\")\\n\", a)"
   ]
  },
  {
   "cell_type": "markdown",
   "metadata": {},
   "source": [
    "* **np.set_printoptions( formatter={ 使用lambda函數客製列印陣列元素的格式 } )**：元素內容格式也能客製，甚至能在列印時改變數值呢！\n",
    "\n",
    "**型別關鍵字**\n",
    "* `all`：各種型別都套用格式\n",
    "* `float_kind`：只套用floatxx\n",
    "* `int_kind`：只套用intxx\n",
    "* `str_kind`：只套用字串\n",
    "* 除此之外，還有很多種型別的關鍵字！請參考技術文件：[numpy.set_printoptions – SciPy.org](https://docs.scipy.org/doc/numpy/reference/generated/numpy.set_printoptions.html)"
   ]
  },
  {
   "cell_type": "code",
   "execution_count": 35,
   "metadata": {},
   "outputs": [
    {
     "name": "stdout",
     "output_type": "stream",
     "text": [
      "NumPy set_printoptions(formatter={all: i:})\n",
      " [i:0 i:1 i:2 i:3\n",
      " i:4]\n",
      "\n",
      "NumPy set_printoptions(formatter={float_kind: f:})\n",
      " [0 1 2 3 4]\n",
      "NumPy set_printoptions(formatter={float_kind: f:})\n",
      " [f:0.0 f:1.0 f:2.0\n",
      " f:3.0 f:4.0]\n",
      "\n",
      "NumPy set_printoptions({int_kind: i:, float_kind: f:})\n",
      " [i:0 i:1 i:2 i:3\n",
      " i:4]\n",
      "NumPy set_printoptions({int_kind: i:, float_kind: f:})\n",
      " [f:0.0 f:1.0 f:2.0\n",
      " f:3.0 f:4.0]\n"
     ]
    }
   ],
   "source": [
    "np.set_printoptions(precision=None, threshold=None, edgeitems=None, linewidth=None, \n",
    "                    suppress=None, nanstr=None, infstr=None, formatter=None, \n",
    "                    sign=None, floatmode=None)  # reset print options\n",
    "## formatter\n",
    "# 使用lambda函數客製列印陣列元素的格式\n",
    "np.set_printoptions()  # reset print options\n",
    "np.set_printoptions(formatter={'all': lambda x: 'i:' + str(x)})\n",
    "print(\"NumPy set_printoptions(formatter={all: i:})\\n\", np.arange(0,5))\n",
    "print()\n",
    "# 這邊可以看出來，只設定了float的格式，是不會對int產生影響的\n",
    "np.set_printoptions(formatter={'float_kind': lambda x: 'f:' + str(x)})\n",
    "print(\"NumPy set_printoptions(formatter={float_kind: f:})\\n\", np.arange(0,5))\n",
    "print(\"NumPy set_printoptions(formatter={float_kind: f:})\\n\", np.arange(0,5, dtype=np.float16))\n",
    "print()\n",
    "# 如果同時只想要客製float和int的格式，可以用逗號隔開設定值\n",
    "np.set_printoptions(formatter={'int_kind': lambda x: 'i:' + str(x), 'float_kind': lambda x: 'f:' + str(x)})\n",
    "print(\"NumPy set_printoptions({int_kind: i:, float_kind: f:})\\n\", np.arange(0,5))\n",
    "print(\"NumPy set_printoptions({int_kind: i:, float_kind: f:})\\n\", np.arange(0,5, dtype=np.float16))"
   ]
  }
 ],
 "metadata": {
  "kernelspec": {
   "display_name": "Python 3",
   "language": "python",
   "name": "python3"
  },
  "language_info": {
   "codemirror_mode": {
    "name": "ipython",
    "version": 3
   },
   "file_extension": ".py",
   "mimetype": "text/x-python",
   "name": "python",
   "nbconvert_exporter": "python",
   "pygments_lexer": "ipython3",
   "version": "3.6.0"
  }
 },
 "nbformat": 4,
 "nbformat_minor": 2
}
