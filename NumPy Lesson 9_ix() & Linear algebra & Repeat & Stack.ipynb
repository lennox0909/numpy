{
 "cells": [
  {
   "cell_type": "markdown",
   "metadata": {},
   "source": [
    "# NumPy Tutorial\n",
    "[Source](https://github.com/PoLun-Wang/Learn_NumPy)"
   ]
  },
  {
   "cell_type": "markdown",
   "metadata": {},
   "source": [
    "# Lesson 9: ix() & Linear algebra & Repeat & Stack"
   ]
  },
  {
   "cell_type": "code",
   "execution_count": 1,
   "metadata": {},
   "outputs": [],
   "source": [
    "import numpy as np"
   ]
  },
  {
   "cell_type": "markdown",
   "metadata": {},
   "source": [
    "## ix_( )\n",
    "**ix_ function**\n",
    "* 首先來觀察 ix 函數的運作模式：\n",
    "* 可以輸入多個陣列，本範例以輸入兩個一維陣列為例。\n",
    "* ix_ 函數會以第一個作為輸入參數的陣列轉置成 `column vector` 回傳。\n",
    "* `column vector` 就是只有一個column的向量。\n",
    "$\\begin{bmatrix}\n",
    "1\\\\\n",
    "3\n",
    "\\end{bmatrix}$\n",
    "* 第二個陣列就會被作以 `row vector` 的形式輸出。\n",
    "* `row vector` 就是只有一個row的向量。\n",
    "$\\begin{bmatrix}\n",
    "2 & 4\n",
    "\\end{bmatrix}$\n",
    "* 如果分別將 ix_( ) 的回傳值分別取出，就可以看出上述的差異。（請參考：下列程式範例第15行、輸出結果第14~18行）\n",
    "* 但是如果直接使用一個變數來接收 ix_( ) 的回傳值，會收到一個tuple，這個tuple則是以第一、第二個輸入參數所轉換成的陣列依序組合而成的。（請參考：下列程式範例第8行、輸出結果第9~11行）"
   ]
  },
  {
   "cell_type": "code",
   "execution_count": 2,
   "metadata": {},
   "outputs": [
    {
     "name": "stdout",
     "output_type": "stream",
     "text": [
      "matrix_a=>\n",
      " [[ 0  1  2  3  4]\n",
      " [ 5  6  7  8  9]\n",
      " [10 11 12 13 14]\n",
      " [15 16 17 18 19]\n",
      " [20 21 22 23 24]]\n",
      "\n",
      "np.ix_([1,3],[2,4]))\n",
      "ix_()=>\n",
      "(array([[1],\n",
      "       [3]]), array([[2, 4]]))\n",
      "\n",
      "Seperate the return value of ix_(): rows, cols = np.ix_([1,3],[2,4])\n",
      "rows=>\n",
      "[[1]\n",
      " [3]]\n",
      "cols=>\n",
      "[[2 4]]\n"
     ]
    }
   ],
   "source": [
    "martix_a = np.arange(0, 25).reshape(5, 5)\n",
    "print('matrix_a=>\\n', martix_a)\n",
    "\n",
    "# ix_() will return a tuple what is composed by array [1,3] and array [2,4].\n",
    "# ix_() 會回傳一個由[1,3]和[2,4]兩個輸入值而組成的tuple.\n",
    "print()\n",
    "print('np.ix_([1,3],[2,4]))')\n",
    "print('ix_()=>\\n{0}'.format(np.ix_([1,3],[2,4])))\n",
    "\n",
    "# We can seperate the return value of ix_() as two different array.\n",
    "# 我們可以分別將ix_()的回傳值以兩個不同的陣列取出.\n",
    "print()\n",
    "print('Seperate the return value of ix_(): rows, cols = np.ix_([1,3],[2,4])')\n",
    "rows, cols = np.ix_([1,3],[2,4])\n",
    "print('rows=>\\n{0}\\ncols=>\\n{1}'.format(rows, cols))"
   ]
  },
  {
   "cell_type": "markdown",
   "metadata": {},
   "source": [
    "**ix_ 函數把輸入值轉換成這樣，可以用在哪些地方呢？**\n",
    "\n",
    "* 輸入參數可以是欲選取矩陣中特定資料的索引值，利用 ix_ 對目標矩陣選取需要的資料：\n",
    "* 我想要選取上述 matrix_a 矩陣中的索引(1,2)、(1,4)、(3,2)、(3,4)四筆資料，\n",
    "* 因此，對應至矩陣的`row`以及`column`的索引值可以分別處理成兩個向量：$\\begin{bmatrix}\n",
    "1 & 3\n",
    "\\end{bmatrix}$ 以及 $\\begin{bmatrix}\n",
    "2 & 4\n",
    "\\end{bmatrix}$\n",
    "* 最後，就可以直接用 ix_ 的回傳值來選取資料！（請參考：下列程式範例第16行、輸出結果第3~5行）"
   ]
  },
  {
   "cell_type": "code",
   "execution_count": 3,
   "metadata": {},
   "outputs": [
    {
     "name": "stdout",
     "output_type": "stream",
     "text": [
      "\n",
      "Get values by ix_():\n",
      "a_ix = martix_a[ np.ix_([1,3],[2,4]) ]\n",
      "a_ix=>\n",
      "[[ 7  9]\n",
      " [17 19]]\n"
     ]
    }
   ],
   "source": [
    "# The return value of ix_() can divide into two part:\n",
    "# The first part will is composed by the first input array,\n",
    "# and the first part will become a column vector.\n",
    "# The second part is composed by the second input array,\n",
    "# and it will become a row vector.\n",
    "# Therefor, we can use the return value of ix_() as an index set\n",
    "# to get values from a 2-dimension matrix directly.\n",
    "# ix_()的回傳值分為兩個部分：\n",
    "# 第一部分由第一個輸入陣列組成, 它會變成一個column vector. \n",
    "# 第二部分由第二個輸入陣列組成, 它會變成一個row vector. \n",
    "# 因此, 我們可以利用ix_()的回傳值形成一組索引集, 直接從一個二維陣列中取值.\n",
    "print()\n",
    "print('Get values by ix_():')\n",
    "print('a_ix = martix_a[ np.ix_([1,3],[2,4]) ]')\n",
    "a_ix = martix_a[np.ix_([1,3],[2,4])]\n",
    "print('a_ix=>\\n{0}'.format(a_ix))"
   ]
  },
  {
   "cell_type": "markdown",
   "metadata": {},
   "source": [
    "## Linear Algebra\n",
    "**線性代數常用方法**\n",
    "* 這邊介紹一些較簡單的線性代數方法：\n",
    "    * 矩陣相乘(matrix product) `np.dot(matrix_a, matrix_b)`\n",
    "    * 矩陣內元素相乘(element-by-element multiplication) `matrix_a * matrix_b`\n",
    "    * 轉置(transpose) `np.transpose(matrix_a)`\n",
    "* [單位矩陣I<sub>n</sub> (Identity matrix)](https://zh.wikipedia.org/wiki/%E5%96%AE%E4%BD%8D%E7%9F%A9%E9%99%A3) `np.eye(n)`\n",
    "    * n階單位矩陣，是一個n的方形矩陣，其主對角線元素為1，其餘元素為0。單位矩陣以 I<sub>n</sub> 表示"
   ]
  },
  {
   "cell_type": "code",
   "execution_count": 6,
   "metadata": {},
   "outputs": [
    {
     "name": "stdout",
     "output_type": "stream",
     "text": [
      "x1=>\n",
      "[[1. 2.]\n",
      " [3. 4.]]\n",
      "x2=>\n",
      "[[5.]\n",
      " [6.]]\n",
      "\n",
      "x1 product x2=>\n",
      "[[17.]\n",
      " [39.]]\n",
      "\n",
      "x1 times x2=>\n",
      "[[ 5. 10.]\n",
      " [18. 24.]]\n",
      "\n",
      "transpose x1=>\n",
      "[[1. 3.]\n",
      " [2. 4.]]\n",
      "\n",
      "identify matrix I=>\n",
      "[[1. 0. 0.]\n",
      " [0. 1. 0.]\n",
      " [0. 0. 1.]]\n"
     ]
    }
   ],
   "source": [
    "##Linear Algebra\n",
    "x1 = np.array([[1, 2], [3, 4]], dtype=np.float32).reshape(2,2)\n",
    "x2 = np.array([5, 6], dtype=np.float32).reshape(2,1)\n",
    "print('x1=>\\n{0}\\nx2=>\\n{1}'.format(x1, x2))\n",
    "\n",
    "# matrix product\n",
    "# 矩陣相乘\n",
    "print()\n",
    "print('x1 product x2=>\\n{0}'.format(np.dot(x1, x2)))\n",
    "\n",
    "# element-by-element multiplication\n",
    "# 矩陣內元素相乘\n",
    "print()\n",
    "print('x1 times x2=>\\n{0}'.format(x1*x2))\n",
    "\n",
    "# transpose\n",
    "# 轉置矩陣\n",
    "print()\n",
    "print('transpose x1=>\\n{0}'.format(np.transpose(x1)))\n",
    "\n",
    "# identity matrix\n",
    "# 單位矩陣\n",
    "print()\n",
    "print('identify matrix I=>\\n{0}'.format(np.eye(3)))"
   ]
  },
  {
   "cell_type": "markdown",
   "metadata": {},
   "source": [
    "## Repeat / Stack\n",
    "**重複(重製/repeat, tile)、堆疊(hstack, vstack)**\n",
    "**np.repeat(`<a>, <repeats>, <axis>`)**\n",
    "\n",
    "* a：目標矩陣或陣列\n",
    "* repeats：輸入值可以是整數、陣列\n",
    "* axis：為整數，表示執行重製的軸向\n",
    "* 將目標矩陣沿著設定的軸向(第一軸 axis = 0)進行重製。\n",
    "\n",
    "**np.tile(`<a>, <repeats>`)**\n",
    "\n",
    "* a：目標矩陣或陣列\n",
    "* repeats：參數為一個tuple\n",
    "* 將目標矩陣依 repeats 設定每個維度數值重複執行 n 次，同時沿著各個維度的方向重製。\n",
    "\n",
    "**np.hstack(`<array>`)**\n",
    "\n",
    "* 輸入參數內的陣列size必須一致，將輸入的陣列沿著水平方向合併後輸出。\n",
    "\n",
    "**np.vstack(`<array>`)**\n",
    "\n",
    "* 輸入參數內的陣列size必須一致，將輸入的陣列沿著垂直方向合併後輸出。"
   ]
  },
  {
   "cell_type": "code",
   "execution_count": 7,
   "metadata": {},
   "outputs": [
    {
     "name": "stdout",
     "output_type": "stream",
     "text": [
      "col=>\n",
      "[[0]\n",
      " [1]\n",
      " [2]]\n",
      "\n",
      "repeat col for 5 times=>\n",
      "[[0 0 0 0 0]\n",
      " [1 1 1 1 1]\n",
      " [2 2 2 2 2]]\n",
      "\n",
      "repeat col like [2,4]=>\n",
      "[[0 0 0 0]\n",
      " [1 1 1 1]\n",
      " [2 2 2 2]\n",
      " [0 0 0 0]\n",
      " [1 1 1 1]\n",
      " [2 2 2 2]]\n",
      "\n",
      "hstack col=>\n",
      "[[0 0]\n",
      " [1 1]\n",
      " [2 2]]\n",
      "\n",
      "vstack col=>\n",
      "[[0]\n",
      " [1]\n",
      " [2]\n",
      " [0]\n",
      " [1]\n",
      " [2]]\n"
     ]
    }
   ],
   "source": [
    "# Repeat / Tile / hstack / vstack\n",
    "col = np.arange(0,3).reshape(3,1)\n",
    "print('col=>\\n{0}'.format(col))\n",
    "\n",
    "# Repeat col for 5 times along the 2nd axis.\n",
    "# 沿著第2軸，重製col 5次\n",
    "a = np.repeat(col, 5, axis=1)\n",
    "print()\n",
    "print('repeat col for 5 times=>\\n{0}'.format(a))\n",
    "\n",
    "# Repeat col 2 times along the direction of 1st dimension,\n",
    "# and repeat col 4 times along the direction of 2nd dimension.\n",
    "# 沿著第一個維度的方向重複col 2次, 沿著第二個維度的方向重複col 4次.\n",
    "a = np.tile(col, (2,4))\n",
    "print()\n",
    "print('repeat col like [2,4]=>\\n{0}'.format(a))\n",
    "\n",
    "# Stack col with horizontal line.\n",
    "# 將col沿著水平線堆疊.\n",
    "print()\n",
    "print('hstack col=>\\n{0}'.format(np.hstack([col, col])))\n",
    "\n",
    "# Stack col with vertical line.\n",
    "# 將col沿著垂直線堆疊.\n",
    "print()\n",
    "print('vstack col=>\\n{0}'.format(np.vstack([col, col])))"
   ]
  },
  {
   "cell_type": "code",
   "execution_count": null,
   "metadata": {},
   "outputs": [],
   "source": []
  }
 ],
 "metadata": {
  "kernelspec": {
   "display_name": "Python 3",
   "language": "python",
   "name": "python3"
  },
  "language_info": {
   "codemirror_mode": {
    "name": "ipython",
    "version": 3
   },
   "file_extension": ".py",
   "mimetype": "text/x-python",
   "name": "python",
   "nbconvert_exporter": "python",
   "pygments_lexer": "ipython3",
   "version": "3.6.0"
  }
 },
 "nbformat": 4,
 "nbformat_minor": 2
}
