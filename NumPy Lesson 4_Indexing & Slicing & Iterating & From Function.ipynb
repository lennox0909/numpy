{
 "cells": [
  {
   "cell_type": "markdown",
   "metadata": {},
   "source": [
    "# NumPy Tutorial\n",
    "[Source](https://github.com/PoLun-Wang/Learn_NumPy)"
   ]
  },
  {
   "cell_type": "markdown",
   "metadata": {},
   "source": [
    "# Lesson 4: Indexing & Slicing & Iterating & From Function\n",
    "\n"
   ]
  },
  {
   "cell_type": "code",
   "execution_count": 1,
   "metadata": {},
   "outputs": [],
   "source": [
    "import numpy as np"
   ]
  },
  {
   "cell_type": "markdown",
   "metadata": {},
   "source": [
    "## 索引\n",
    "* 索引(Indexing)的用途不外乎就是為了要從陣列和矩陣中取值，但除此之外有很多種功能！\n",
    "* 可以取出連續區間，還可以間隔取值！\n",
    "\n",
    "**選取連續區間 [a:b]**\n",
    "* 選取索引值a到b的資料x[a:b]\n",
    "* a：選取資料的起始索引，不指定表示從頭開始\n",
    "* b：選取資料的結束索引+1，不指定表示直到陣列結束"
   ]
  },
  {
   "cell_type": "code",
   "execution_count": 2,
   "metadata": {},
   "outputs": [
    {
     "name": "stdout",
     "output_type": "stream",
     "text": [
      "a=> [ 0  1  4  9 16 25 36 49 64 81]\n",
      "\n",
      "a[2:5]=> [ 4  9 16]\n"
     ]
    }
   ],
   "source": [
    "a = np.arange(10) ** 2\n",
    "print(\"a=> {0}\".format(a))\n",
    "print()\n",
    "print(\"a[2:5]=> {0}\".format(a[2:5]))"
   ]
  },
  {
   "cell_type": "markdown",
   "metadata": {},
   "source": [
    "## 切片\n",
    "* 切片(Slicing)的用途和索引(Indexing)很像！\n",
    "* 若能活用便能加快程式撰寫速度！\n",
    "\n",
    "**間隔選取[::c]**\n",
    "* 以1維陣列來說明x[a:b:c]\n",
    "    * a：選取資料的起始索引\n",
    "    * b：選取資料的結束索引+1\n",
    "    * c：選取資料間隔，以索引值可以被此值整除的元素，不指定表示1\n",
    "\n",
    "* 從index為3起算，每數到4的元素值都改為9999，直到第8個元素(index為7)為止"
   ]
  },
  {
   "cell_type": "code",
   "execution_count": 7,
   "metadata": {},
   "outputs": [
    {
     "name": "stdout",
     "output_type": "stream",
     "text": [
      "a=> [ 0  1  4  9 16 25 36 49 64 81]\n",
      "a[3:8:4]=> [   0    1    4 9999   16   25   36 9999   64   81]\n"
     ]
    }
   ],
   "source": [
    "a = np.arange(10) ** 2\n",
    "print(\"a=> {0}\".format(a))\n",
    "a[3:8:4] = 9999\n",
    "print(\"a[3:8:4]=> {0}\".format(a))"
   ]
  },
  {
   "cell_type": "code",
   "execution_count": 13,
   "metadata": {},
   "outputs": [
    {
     "name": "stdout",
     "output_type": "stream",
     "text": [
      "a=> [ 0  1  4  9 16 25 36 49 64 81]\n",
      "a[3:8:4]=> [ 0  1  4  9 16 25 36 49 64 81]\n"
     ]
    }
   ],
   "source": [
    "a = np.arange(10) ** 2\n",
    "print(\"a=> {0}\".format(a))\n",
    "a[3:8:4]\n",
    "print(\"a[3:8:4]=> {0}\".format(a))"
   ]
  },
  {
   "cell_type": "markdown",
   "metadata": {},
   "source": [
    "**倒序[::-1]**\n",
    "* 只是單純的把順序反過來，並無數值大小比較"
   ]
  },
  {
   "cell_type": "code",
   "execution_count": 14,
   "metadata": {},
   "outputs": [
    {
     "name": "stdout",
     "output_type": "stream",
     "text": [
      "a[:,:,-1])=> [81 64 49 36 25 16  9  4  1  0]\n"
     ]
    }
   ],
   "source": [
    "a = np.arange(10) ** 2\n",
    "print(\"a[:,:,-1])=> {0}\".format(a[::-1]))"
   ]
  },
  {
   "cell_type": "markdown",
   "metadata": {},
   "source": [
    "## 迭代\n",
    "* 迭代(Iterating)比較熟悉一點，可以說就像foreach一樣的使用方法"
   ]
  },
  {
   "cell_type": "code",
   "execution_count": 18,
   "metadata": {},
   "outputs": [
    {
     "name": "stdout",
     "output_type": "stream",
     "text": [
      "a=> [ 0  1  4  9 16 25 36 49 64 81]\n",
      "a**(1/2)=> 0.0\n",
      "a**(1/2)=> 1.0\n",
      "a**(1/2)=> 2.0\n",
      "a**(1/2)=> 3.0\n",
      "a**(1/2)=> 4.0\n",
      "a**(1/2)=> 5.0\n",
      "a**(1/2)=> 6.0\n",
      "a**(1/2)=> 7.0\n",
      "a**(1/2)=> 8.0\n",
      "a**(1/2)=> 9.0\n"
     ]
    }
   ],
   "source": [
    "# Iteracted over\n",
    "a = np.arange(10) ** 2\n",
    "print(\"a=> {0}\".format(a))\n",
    "for i in a:\n",
    "    print(\"a**(1/2)=> {0}\".format(np.round(i**(1/2), 0)))"
   ]
  },
  {
   "cell_type": "markdown",
   "metadata": {},
   "source": [
    "多維陣列在for loop中取值時，會以第一維度為優先！\n",
    "以二維陣列為例：一層for loop優先獲取的陣列內容，就是第一維度每row的內容！"
   ]
  },
  {
   "cell_type": "code",
   "execution_count": 19,
   "metadata": {},
   "outputs": [
    {
     "name": "stdout",
     "output_type": "stream",
     "text": [
      "b=> [[ 1  2  3  4  5  6  7  8]\n",
      " [ 9 10 11 12 13 14 15 16]\n",
      " [17 18 19 20 21 22 23 24]\n",
      " [25 26 27 28 29 30 31 32]\n",
      " [33 34 35 36 37 38 39 40]]\n",
      "\n",
      "[1 2 3 4 5 6 7 8]\n",
      "[ 9 10 11 12 13 14 15 16]\n",
      "[17 18 19 20 21 22 23 24]\n",
      "[25 26 27 28 29 30 31 32]\n",
      "[33 34 35 36 37 38 39 40]\n"
     ]
    }
   ],
   "source": [
    "b = np.arange(1, 41).reshape(5, 8)\n",
    "print(\"b=> {0}\".format(b))\n",
    "print()\n",
    "# for loop\n",
    "for row in b:\n",
    "    print(row)"
   ]
  },
  {
   "cell_type": "markdown",
   "metadata": {},
   "source": [
    "直接將矩陣內所有元素扁平化，依序取出所有元素！此功能必須搭配for-loop, while-loop使用！\n",
    "扁平化就會變成一維陣列！\n",
    "`.flat`"
   ]
  },
  {
   "cell_type": "code",
   "execution_count": 21,
   "metadata": {},
   "outputs": [
    {
     "name": "stdout",
     "output_type": "stream",
     "text": [
      "b=> [[ 1  2  3  4]\n",
      " [ 5  6  7  8]\n",
      " [ 9 10 11 12]]\n",
      "b.flat=> <numpy.flatiter object at 0x102238600>\n",
      "1\n",
      "2\n",
      "3\n",
      "4\n",
      "5\n",
      "6\n",
      "7\n",
      "8\n",
      "9\n",
      "10\n",
      "11\n",
      "12\n"
     ]
    }
   ],
   "source": [
    "b = np.arange(1, 13).reshape(3, 4)\n",
    "print(\"b=> {0}\".format(b))\n",
    "print(\"b.flat=> {0}\".format(b.flat))\n",
    "for element in b.flat:\n",
    "    print(element)"
   ]
  },
  {
   "cell_type": "markdown",
   "metadata": {},
   "source": [
    "## From Function\n",
    "**什麼是From Function？**\n",
    "* 格式是一種可以透過一個自定義的函數和陣列座標值(index)來建構陣列的方法！\n",
    "* 所以，需要先建立一個函數！\n",
    "\n",
    "**np.fromfunction(函數名稱, 形狀, 資料型別)**\n",
    "* 下列範例設定的參數分別是：\n",
    "* 函數my_f(row, col)，會用row*5 + col作為每一個陣列位置的數值。\n",
    "* 形狀為(5, 5)：就代表要產生5-by-5的矩陣！\n",
    "* 資料型別就不必多解釋了，就是產生型別為int的矩陣！"
   ]
  },
  {
   "cell_type": "code",
   "execution_count": 32,
   "metadata": {},
   "outputs": [
    {
     "name": "stdout",
     "output_type": "stream",
     "text": [
      "[[ 0  1  2  3  4]\n",
      " [ 5  6  7  8  9]\n",
      " [10 11 12 13 14]\n",
      " [15 16 17 18 19]\n",
      " [20 21 22 23 24]]\n",
      "\n",
      "[ 4  9 14 19 24]\n",
      "\n",
      "[ 3  8 13 18 23]\n"
     ]
    }
   ],
   "source": [
    "def my_f(row, col):\n",
    "    return row*5 + col\n",
    " \n",
    "b = np.fromfunction(my_f, (5, 5), dtype=int)\n",
    "print(b)\n",
    " \n",
    "print()\n",
    "print(b[0:5, 4])\n",
    " \n",
    "print()\n",
    "print(b[:, 3])"
   ]
  },
  {
   "cell_type": "code",
   "execution_count": null,
   "metadata": {},
   "outputs": [],
   "source": []
  }
 ],
 "metadata": {
  "kernelspec": {
   "display_name": "Python 3",
   "language": "python",
   "name": "python3"
  },
  "language_info": {
   "codemirror_mode": {
    "name": "ipython",
    "version": 3
   },
   "file_extension": ".py",
   "mimetype": "text/x-python",
   "name": "python",
   "nbconvert_exporter": "python",
   "pygments_lexer": "ipython3",
   "version": "3.6.0"
  }
 },
 "nbformat": 4,
 "nbformat_minor": 2
}
