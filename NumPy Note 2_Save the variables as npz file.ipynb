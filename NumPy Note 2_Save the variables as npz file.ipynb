{
 "cells": [
  {
   "cell_type": "markdown",
   "metadata": {},
   "source": [
    "# NumPy Tutorial\n",
    "[Source](https://github.com/PoLun-Wang/Learn_NumPy)"
   ]
  },
  {
   "cell_type": "markdown",
   "metadata": {},
   "source": [
    "# Note 2: Save the variables as .npz file\n",
    "* 本文將介紹在進行一些運算最常使用到的功能之一，就是該『如何存下變數』以及『該怎麼讀取.npz檔』。其實，使用Numpy就能簡單地達成這個任務(numpy.savez)，而且還附有壓縮功能的方法(numpy.savez_compressed)。"
   ]
  },
  {
   "cell_type": "code",
   "execution_count": 1,
   "metadata": {},
   "outputs": [],
   "source": [
    "import numpy as np"
   ]
  },
  {
   "cell_type": "markdown",
   "metadata": {},
   "source": [
    "## 不壓縮存檔\n",
    "**numpy.`savez(“路徑檔名”, 存檔後變數名稱1=欲儲存的變數1, …)`**\n",
    "* numpy.savez的使用方法很簡單，唯一需要注意的就只有變數設定的部分。"
   ]
  },
  {
   "cell_type": "code",
   "execution_count": 4,
   "metadata": {},
   "outputs": [],
   "source": [
    "arr1 = np.arange(1, 101).reshape(10, 10)\n",
    "arr2 = np.arange(1, 10001).reshape(100, 100)\n",
    "arr3 = np.arange(1, 1000001).reshape(1000, 1000)\n",
    "\n",
    "np.savez('example_savez.npz', my_arr1=arr1, my_arr2=arr2, my_arr3=arr3)"
   ]
  },
  {
   "cell_type": "markdown",
   "metadata": {},
   "source": [
    "## 壓縮後存檔\n",
    "**numpy.`savez_compressed(“路徑檔名”, 存檔後變數名稱1=欲儲存的變數1, …)`**\n",
    "* 這個方法可以在存成npz的過程中提供壓縮容量的效果，效果看起來是還蠻顯著的。"
   ]
  },
  {
   "cell_type": "code",
   "execution_count": 5,
   "metadata": {},
   "outputs": [],
   "source": [
    "arr4 = np.arange(1, 101).reshape(10, 10)\n",
    "arr5 = np.arange(1, 10001).reshape(100, 100)\n",
    "arr6 = np.arange(1, 1000001).reshape(1000, 1000)\n",
    "\n",
    "np.savez_compressed('example_savez_compressed.npz', my_arr4=arr4, my_arr5=arr5, my_arr6=arr6)"
   ]
  },
  {
   "cell_type": "markdown",
   "metadata": {},
   "source": [
    "**存檔後容量大小比較**\n",
    "\n",
    "以本文的範例來說，無壓縮的檔案大小大概是8.1MB，使用savez_compressed存檔的話大概是1.5MB。"
   ]
  },
  {
   "cell_type": "markdown",
   "metadata": {},
   "source": [
    "## 讀取.npz\n",
    "**`numpy.load(“路徑檔名”)`**\n",
    "* 不論是使用savez或savez_compressed儲存成的.npz檔都可以使用這個方法存取裡面的變數。\n",
    "P.s. 這個範例中的 .npz 檔是上面範例存起來的檔案。"
   ]
  },
  {
   "cell_type": "code",
   "execution_count": 8,
   "metadata": {},
   "outputs": [
    {
     "name": "stdout",
     "output_type": "stream",
     "text": [
      "<numpy.lib.npyio.NpzFile object at 0x1108539b0> \n",
      "\n",
      "my_arr4\n",
      "my_arr5\n",
      "my_arr6\n",
      "\n",
      "Shape of new_arr4: (10, 10)\n",
      "\n",
      "[[  1   2   3   4   5   6   7   8   9  10]\n",
      " [ 11  12  13  14  15  16  17  18  19  20]\n",
      " [ 21  22  23  24  25  26  27  28  29  30]\n",
      " [ 31  32  33  34  35  36  37  38  39  40]\n",
      " [ 41  42  43  44  45  46  47  48  49  50]\n",
      " [ 51  52  53  54  55  56  57  58  59  60]\n",
      " [ 61  62  63  64  65  66  67  68  69  70]\n",
      " [ 71  72  73  74  75  76  77  78  79  80]\n",
      " [ 81  82  83  84  85  86  87  88  89  90]\n",
      " [ 91  92  93  94  95  96  97  98  99 100]] \n",
      "\n",
      "Shape of new_arr5: (100, 100)\n"
     ]
    }
   ],
   "source": [
    "npz_file = np.load('example_savez_compressed.npz')\n",
    "print(npz_file,'\\n')\n",
    "\n",
    "for i in npz_file:\n",
    "    print(i)\n",
    "\n",
    "print()\n",
    "new_arr4, new_arr5 = npz_file['my_arr4'], npz_file['my_arr5']\n",
    "\n",
    "print('Shape of new_arr4: {0}\\n'.format(new_arr4.shape))\n",
    "print(new_arr4,'\\n')\n",
    "print('Shape of new_arr5: {0}'.format(new_arr5.shape))"
   ]
  },
  {
   "cell_type": "markdown",
   "metadata": {},
   "source": [
    "## 存檔執行時間\n",
    "花費時間也是很重要的，以我使用過的經驗來說，真的是很有感的差別，Github的檔案中有放入執行時間的比較，有興趣的話可以連過去看看。:)"
   ]
  },
  {
   "cell_type": "markdown",
   "metadata": {},
   "source": [
    "## Reference\n",
    "1. [numpy.savez – SciPy.org](https://docs.scipy.org/doc/numpy/reference/generated/numpy.savez.html)\n",
    "2. [numpy.savez_compressed – SciPy.org](https://docs.scipy.org/doc/numpy/reference/generated/numpy.savez_compressed.html)"
   ]
  }
 ],
 "metadata": {
  "kernelspec": {
   "display_name": "Python 3",
   "language": "python",
   "name": "python3"
  },
  "language_info": {
   "codemirror_mode": {
    "name": "ipython",
    "version": 3
   },
   "file_extension": ".py",
   "mimetype": "text/x-python",
   "name": "python",
   "nbconvert_exporter": "python",
   "pygments_lexer": "ipython3",
   "version": "3.6.0"
  }
 },
 "nbformat": 4,
 "nbformat_minor": 2
}
