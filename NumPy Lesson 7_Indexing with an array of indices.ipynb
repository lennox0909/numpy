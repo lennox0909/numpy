{
 "cells": [
  {
   "cell_type": "markdown",
   "metadata": {},
   "source": [
    "# NumPy Tutorial\n",
    "[Source](https://github.com/PoLun-Wang/Learn_NumPy)"
   ]
  },
  {
   "cell_type": "markdown",
   "metadata": {},
   "source": [
    "# Lesson 7: Indexing with an array of indices"
   ]
  },
  {
   "cell_type": "code",
   "execution_count": 1,
   "metadata": {},
   "outputs": [],
   "source": [
    "import numpy as np"
   ]
  },
  {
   "cell_type": "markdown",
   "metadata": {},
   "source": [
    "## using 1-D Array\n",
    "**用一維陣列當索引**\n",
    "* 這個應該蠻好理解的，直接用一維`陣列i`值當作`陣列a`的索引值。\n",
    "* NumPy會直接回傳`陣列i`內每一個元素值對應到`陣列a`內索引位置的數值。"
   ]
  },
  {
   "cell_type": "code",
   "execution_count": 7,
   "metadata": {},
   "outputs": [
    {
     "name": "stdout",
     "output_type": "stream",
     "text": [
      "a=>[ 0  1  4  9 16 25 36 49 64 81]\n",
      "\n",
      "i=> [1 3 5 7 9]\n",
      "a[i]=> [ 1  9 25 49 81]\n"
     ]
    }
   ],
   "source": [
    "a = np.arange(10)**2\n",
    "print('a=>{0}'.format(a))\n",
    "\n",
    "print()\n",
    "i = np.array([1, 3, 5, 7, 9])\n",
    "print('i=> {0}'.format(i))\n",
    "print('a[i]=> {0}'.format(a[i]))"
   ]
  },
  {
   "cell_type": "markdown",
   "metadata": {},
   "source": [
    "## using 2-D Array\n",
    "**用二維陣列當索引**\n",
    "* 如果將上述用來做索引的陣列維度從一維改成二維會有怎樣的效果？\n",
    "* `陣列j`是二維陣列，用來對`陣列a`取值。"
   ]
  },
  {
   "cell_type": "code",
   "execution_count": 9,
   "metadata": {},
   "outputs": [
    {
     "name": "stdout",
     "output_type": "stream",
     "text": [
      "a=>[ 0  1  4  9 16 25 36 49 64 81]\n",
      "j=>\n",
      "[[3 4]\n",
      " [5 6]]\n",
      "\n",
      "a[j]=>\n",
      "[[ 9 16]\n",
      " [25 36]]\n"
     ]
    }
   ],
   "source": [
    "a = np.arange(10)**2\n",
    "j = np.array( [[3, 4], [5, 6]] )\n",
    "print('a=>{0}'.format(a))\n",
    "print('j=>\\n{0}'.format(j))\n",
    "print()\n",
    "# Transforms the shape of a into j, and gets values.\n",
    "# 把a的形狀改成像j的形狀, 而且取得相對應index的值.\n",
    "print('a[j]=>\\n{0}'.format(a[j]))"
   ]
  },
  {
   "cell_type": "markdown",
   "metadata": {},
   "source": [
    "## using two 2-D Arrays\n",
    "**使用2個二維陣列當索引**\n",
    "* 這個用法也蠻神奇的，各位可以看看。\n",
    "* 下列範例程式會用到3個陣列，其中a, b兩個陣列會分別用來作為矩陣x的第一維度和第二維度的索引值！\n",
    "* 不過NumPy回傳的矩陣形狀也會跟a, b一樣，也就是說a和b的形狀必須一樣！\n",
    "* 邏輯如下："
   ]
  },
  {
   "cell_type": "markdown",
   "metadata": {},
   "source": [
    "<table>\n",
    "<tbody>\n",
    "<tr>\n",
    "\n",
    "<td>\n",
    "<p>陣列x：</p>\n",
    "$0, 1, \\cdots, 27$的數值，形狀為$4\\times7$的矩陣</p>\n",
    "<p>陣列a：</p>\n",
    "<p>$a=\n",
    "\\begin{bmatrix}\n",
    "0 & 1 \\\\\n",
    "2& 3\n",
    "\\end{bmatrix}$</p>\n",
    "<p>陣列b：</p>\n",
    "<p>$b=\n",
    "\\begin{bmatrix}\n",
    "5 & 5 \\\\\n",
    "6 & 6\n",
    "\\end{bmatrix}$</p>\n",
    "\n",
    "<td>\n",
    "<td>\n",
    "\n",
    "<td>\n",
    "<p>使用陣列a, b對陣列x取值：x[a, b]</p>\n",
    "<ul>\n",
    "<li style=\"list-style-type: none;\">\n",
    "<ul>\n",
    "<li>陣列a：x第一維度的索引值</li>\n",
    "<li>陣列b：x第二維度的索引值</li>\n",
    "</ul>\n",
    "</li>\n",
    "</ul>\n",
    "<p>$\\begin{bmatrix}\n",
    "x[0, 5] & x[1, 5]\\\\\n",
    "x[2, 6] & x[3, 6]\n",
    "\\end{bmatrix}$</p>\n",
    "\n",
    "</tbody>\n",
    "</table>"
   ]
  },
  {
   "cell_type": "code",
   "execution_count": 10,
   "metadata": {},
   "outputs": [
    {
     "name": "stdout",
     "output_type": "stream",
     "text": [
      "Gets values by 2 arrays from a matrix.\n",
      "x=>\n",
      "[[ 0  1  2  3  4  5  6]\n",
      " [ 7  8  9 10 11 12 13]\n",
      " [14 15 16 17 18 19 20]\n",
      " [21 22 23 24 25 26 27]]\n",
      "a=>\n",
      "[[0 1]\n",
      " [2 3]]\n",
      "b=>\n",
      "[[5 5]\n",
      " [6 6]]\n",
      "x[a,b]=>\n",
      "[[ 5 12]\n",
      " [20 27]]\n"
     ]
    }
   ],
   "source": [
    "print(\"Gets values by 2 arrays from a matrix.\")\n",
    "x = np.arange(28).reshape(4, 7)\n",
    "a = np.array([[0, 1], [2, 3]])\n",
    "b = np.array([[5, 5], [6, 6]])\n",
    "print(\"x=>\\n{0}\".format(x))\n",
    "print(\"a=>\\n{0}\".format(a))\n",
    "print(\"b=>\\n{0}\".format(b))\n",
    "# Array \"a\" will indicate the indices of row of the matrix \"x\".\n",
    "# Array \"b\" will indicate the indices of column of the matrix \"x\".\n",
    "# 陣列a將會指出矩陣x裡的row\n",
    "# 陣列b將會指出矩陣x裡的column\n",
    "print(\"x[a,b]=>\\n{0}\".format(x[a,b]))"
   ]
  },
  {
   "cell_type": "markdown",
   "metadata": {},
   "source": [
    "## 多維度矩陣中尋找最大值、加總\n",
    "**argmax**\n",
    "\n",
    "* ndarray.argmax(axis=`<dimension number>`)\n",
    "* np.argmax(`<ndarray>`, axis=`<dimension number>`)\n",
    "* argmax這個功能會尋找你所指定的維度之中，最大值所在之處的**`索引值`**。\n",
    "* 使用方式也有兩種，一個是直接使用作為資料來源的ndarray物件的方法。\n",
    "* 另一種則是使用numpy的argmax方法來達成。"
   ]
  },
  {
   "cell_type": "code",
   "execution_count": 12,
   "metadata": {},
   "outputs": [
    {
     "name": "stdout",
     "output_type": "stream",
     "text": [
      "x=>\n",
      "[[1 2 3]\n",
      " [6 5 5]\n",
      " [7 8 9]]\n",
      "\n",
      "x.argmax(axis=0)=>[2 2 2]\n",
      "x.argmax(axis=1)=>[2 0 2]\n",
      "np.argmax(x, axis=1)=>[2 0 2]\n"
     ]
    }
   ],
   "source": [
    "x = np.array([[1, 2, 3], [6, 5, 5], [7, 8, 9]])\n",
    "print(\"x=>\\n{0}\".format(x))\n",
    "print()\n",
    "# Find out the indices of max value along axis-0.\n",
    "# In this case, axis-0 means each rows in a 2 dimensional matrix.\n",
    "# 同column位置之中 數值最大的位置的row索引值.\n",
    "print(\"x.argmax(axis=0)=>{0}\".format(x.argmax(axis=0)))\n",
    "print(\"x.argmax(axis=1)=>{0}\".format(x.argmax(axis=1)))\n",
    "# Find out the indices of max value along axis-1.\n",
    "# In this case, axis-1 means each columns in a 2 dimensional matrix.\n",
    "# 同row位置之中 數值最大的位置的column的索引.\n",
    "print(\"np.argmax(x, axis=1)=>{0}\".format(np.argmax(x, axis=1)))"
   ]
  },
  {
   "cell_type": "markdown",
   "metadata": {},
   "source": [
    "* 同column位置之中最大的數值\n",
    "* 2D array **`a`** => **`a[row, col]`**"
   ]
  },
  {
   "cell_type": "code",
   "execution_count": 22,
   "metadata": {},
   "outputs": [
    {
     "name": "stdout",
     "output_type": "stream",
     "text": [
      "x=>\n",
      "[[1 2 3]\n",
      " [6 5 5]\n",
      " [7 8 9]]\n",
      "x.shape=> (3, 3)\n",
      "x.shape[1]=> 3\n",
      "x.argmax(axis=0)=> [2 2 2]\n",
      "\n",
      "Max in each colunms:\n",
      "The MAX value of column-0=> 7\n",
      "The MAX value of column-1=> 8\n",
      "The MAX value of column-2=> 9\n"
     ]
    }
   ],
   "source": [
    "# Find out the max values from each colunm of a 2 dimensional matrix.\n",
    "# 印出第2維度陣列中, 各column的最大的數值\n",
    "print(\"x=>\\n{0}\".format(x))\n",
    "print(\"x.shape=> {0}\".format(x.shape))\n",
    "print(\"x.shape[1]=> {0}\".format(x.shape[1]))\n",
    "print(\"x.argmax(axis=0)=> {0}\".format(x.argmax(axis=0)))\n",
    "print()\n",
    "print(\"Max in each colunms:\")\n",
    "for idx in range(x.shape[1]):\n",
    "    print( \"The MAX value of column-{0}=> {1}\".format(idx, x[x.argmax(axis=0)[idx], idx]) )"
   ]
  },
  {
   "cell_type": "markdown",
   "metadata": {},
   "source": [
    "**sum**\n",
    "\n",
    "* ndarray.sum(axis=`<dimension number>`)\n",
    "* np.sum(`<ndarray>`, axis=`<dimension number>`)\n",
    "* 同column位置之中 加總各row索引值！"
   ]
  },
  {
   "cell_type": "code",
   "execution_count": 27,
   "metadata": {},
   "outputs": [
    {
     "name": "stdout",
     "output_type": "stream",
     "text": [
      "x=>\n",
      "[[1 2 3]\n",
      " [6 5 5]\n",
      " [7 8 9]]\n",
      "np.sum(x, axis=0)=>[14 15 17]\n"
     ]
    }
   ],
   "source": [
    "# Summarize the values by each corresponding columns of a 2 dimensional matrix.\n",
    "# 加總每一個相對應欄位的數值\n",
    "print(\"x=>\\n{0}\".format(x))\n",
    "print(\"np.sum(x, axis=0)=>{0}\".format(np.sum(x, axis=0)))"
   ]
  }
 ],
 "metadata": {
  "kernelspec": {
   "display_name": "Python 3",
   "language": "python",
   "name": "python3"
  },
  "language_info": {
   "codemirror_mode": {
    "name": "ipython",
    "version": 3
   },
   "file_extension": ".py",
   "mimetype": "text/x-python",
   "name": "python",
   "nbconvert_exporter": "python",
   "pygments_lexer": "ipython3",
   "version": "3.6.0"
  }
 },
 "nbformat": 4,
 "nbformat_minor": 2
}
