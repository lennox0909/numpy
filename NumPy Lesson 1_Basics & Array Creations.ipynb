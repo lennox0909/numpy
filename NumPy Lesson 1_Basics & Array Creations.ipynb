{
 "cells": [
  {
   "cell_type": "markdown",
   "metadata": {},
   "source": [
    "# NumPy Tutorial\n",
    "[Source](https://github.com/PoLun-Wang/Learn_NumPy)\n",
    "\n",
    "# Lesson 1: Basics & Array Creations"
   ]
  },
  {
   "cell_type": "code",
   "execution_count": 2,
   "metadata": {},
   "outputs": [],
   "source": [
    "import numpy as np"
   ]
  },
  {
   "cell_type": "code",
   "execution_count": 6,
   "metadata": {},
   "outputs": [
    {
     "name": "stdout",
     "output_type": "stream",
     "text": [
      "a=>[1 2 3 4 5]\n",
      "b.dtype=>int64\n",
      "\n",
      "b.dtype=>float64\n"
     ]
    }
   ],
   "source": [
    "a = np.array([1, 2, 3, 4, 5])\n",
    "print(\"a=>{}\".format(a))\n",
    "print(\"b.dtype=>{0}\".format(a.dtype))\n",
    "print()\n",
    "b = np.array([1.25, 2.25, 3.25, 4.25, 5.25])\n",
    "print(\"b.dtype=>{}\".format(b.dtype))"
   ]
  },
  {
   "cell_type": "markdown",
   "metadata": {},
   "source": [
    "**重要屬性**\n",
    "* ndarray.ndim：NumPy ndarray物件的維度\n",
    "* ndarray.shape：ndarray物件的每一個維度的大小(size)，回傳資料類別為Tuple\n",
    "* ndarray.size：ndarray物件所組成之array的總元素數量，回應之數值會等於ndarray.shape的每個元素相乘\n",
    "* ndarray.dtype：ndarray物件內組成元素的型態\n",
    "* ndarray.itemsize：陣列中每一個元素的大小(Bytes) (ex: int16=>16/8=2 Bytes)\n",
    "* ndarray.data：這是一個存有實際陣列元素的緩衝，通常我們不需要使用這個屬性，因為我們可以使用index存取這些元素。"
   ]
  },
  {
   "cell_type": "code",
   "execution_count": 7,
   "metadata": {},
   "outputs": [
    {
     "name": "stdout",
     "output_type": "stream",
     "text": [
      "ndim:2\n",
      "shape:(2, 3)\n",
      "size:6\n",
      "dtype:int16\n",
      "itemsize:2\n",
      "data:<memory at 0x1110bf3a8>\n"
     ]
    }
   ],
   "source": [
    "aa = np.array([(1.9, 1.5, 1.3), (2.9, 2.5, 2.3)], dtype=np.int16)\n",
    "# ndarray.ndim\n",
    "print(\"ndim:{0}\".format(aa.ndim))\n",
    "# ndarry.shape\n",
    "print(\"shape:{0}\".format(aa.shape))\n",
    "# ndarry.size\n",
    "print(\"size:{0}\".format(aa.size))\n",
    "# ndarry.dtype\n",
    "print(\"dtype:{0}\".format(aa.dtype))\n",
    "# ndarray.itemsize\n",
    "print(\"itemsize:{0}\".format(aa.itemsize))\n",
    "# ndarry.data\n",
    "print(\"data:{0}\".format(aa.data))"
   ]
  },
  {
   "cell_type": "markdown",
   "metadata": {},
   "source": [
    "## 建立陣列的方法\n",
    "### 1維陣列\n",
    "* np.array( [<陣列元素用逗號隔開>] )：簡易一維陣列\n",
    "* np.arange( 起始值, 結束值, 步幅, 資料型別 )：也是產生一維陣列，和np.array()的差別在於arange擁有較大的彈性，而且元素數值是自動化產生！"
   ]
  },
  {
   "cell_type": "code",
   "execution_count": 8,
   "metadata": {},
   "outputs": [
    {
     "name": "stdout",
     "output_type": "stream",
     "text": [
      "a=>[6 5 4 3 2]\n",
      "\n",
      "b=>[0 1 2 3 4 5 6 7 8 9]\n",
      "\n",
      "c=>[0.  1.5 3.  4.5 6.  7.5 9. ]\n"
     ]
    }
   ],
   "source": [
    "## 1維陣列\n",
    "a = np.array([6, 5, 4, 3, 2])\n",
    "print(\"a=>{0}\".format(a))\n",
    "print()\n",
    "b = np.arange(10)\n",
    "print(\"b=>{0}\".format(b))\n",
    "print()\n",
    "c = np.arange(0, 10, 1.5, dtype=np.float64)\n",
    "print(\"c=>{0}\".format(c))"
   ]
  },
  {
   "cell_type": "markdown",
   "metadata": {},
   "source": [
    "### 2維陣列\n",
    "* np.array( [[<Row1陣列元素>], [<Row2陣列元素>]] )：產生簡易二維陣列"
   ]
  },
  {
   "cell_type": "code",
   "execution_count": 9,
   "metadata": {},
   "outputs": [
    {
     "name": "stdout",
     "output_type": "stream",
     "text": [
      "b=>[[1.1 1.2 1.3]\n",
      " [2.1 2.2 2.3]]\n"
     ]
    }
   ],
   "source": [
    "## 2維陣列 2-by-3 array\n",
    "b = np.array([[1.1, 1.2, 1.3], [2.1, 2.2, 2.3]])\n",
    "print(\"b=>{0}\".format(b))"
   ]
  },
  {
   "cell_type": "markdown",
   "metadata": {},
   "source": [
    "### 指定陣列型別\n",
    "* np.array( [[<Row1陣列元素>], [<Row2陣列元素>]], dtype=np.int16 )：產生型別為int的陣列"
   ]
  },
  {
   "cell_type": "code",
   "execution_count": 10,
   "metadata": {},
   "outputs": [
    {
     "name": "stdout",
     "output_type": "stream",
     "text": [
      "aa=>[[1 1 1]\n",
      " [2 2 2]]\n"
     ]
    }
   ],
   "source": [
    "## Assign a particular data type to an array\n",
    "aa = np.array([[1.9, 1.5, 1.3], [2.9, 2.5, 2.3]], dtype=np.int16)\n",
    "print(\"aa=>{0}\".format(aa))"
   ]
  },
  {
   "cell_type": "markdown",
   "metadata": {},
   "source": [
    "### 複數陣列(Complex)\n",
    "* 很簡單，就是把陣列元素用複數表示法指定就好了：實部+虛部j\n",
    "或者是用dtype=complex指定陣列元素為複數！"
   ]
  },
  {
   "cell_type": "code",
   "execution_count": 11,
   "metadata": {},
   "outputs": [
    {
     "name": "stdout",
     "output_type": "stream",
     "text": [
      "c1=>[[1.1+0.j 1.2+0.j 1.3+0.j]\n",
      " [2.1+0.j 2.2+0.j 2.3+0.j]]\n",
      "\n",
      "c2=>[2.1 +6.j 3.2 +9.j 4.3+12.j]\n"
     ]
    }
   ],
   "source": [
    "c1 = np.array([(1.1, 1.2, 1.3), (2.1, 2.2, 2.3)], dtype=complex)\n",
    "print(\"c1=>{0}\".format(c1))\n",
    "print()\n",
    "c2 = np.array([2.1+6j, 3.2+9j, 4.3+12j])\n",
    "print(\"c2=>{0}\".format(c2))"
   ]
  },
  {
   "cell_type": "markdown",
   "metadata": {},
   "source": [
    "## 建立陣列常用函數\n",
    "### Zeros\n",
    "* np.zeros( (陣列各維度大小用逗號區分) )：建立全為0的陣列，可以小括號定義陣列的各個維度的大小！"
   ]
  },
  {
   "cell_type": "code",
   "execution_count": 13,
   "metadata": {},
   "outputs": [
    {
     "name": "stdout",
     "output_type": "stream",
     "text": [
      "zeros=>[[0. 0. 0. 0. 0.]\n",
      " [0. 0. 0. 0. 0.]\n",
      " [0. 0. 0. 0. 0.]]\n"
     ]
    }
   ],
   "source": [
    "zeros = np.zeros( (3, 5) )\n",
    "print(\"zeros=>{0}\".format(zeros))"
   ]
  },
  {
   "cell_type": "markdown",
   "metadata": {},
   "source": [
    "### Ones\n",
    "* np.ones( (陣列各維度大小用逗號區分) )：用法與np.zeros一樣！"
   ]
  },
  {
   "cell_type": "code",
   "execution_count": 14,
   "metadata": {},
   "outputs": [
    {
     "name": "stdout",
     "output_type": "stream",
     "text": [
      "ones=>[[1. 1. 1. 1. 1.]\n",
      " [1. 1. 1. 1. 1.]\n",
      " [1. 1. 1. 1. 1.]]\n"
     ]
    }
   ],
   "source": [
    "## Ones\n",
    "ones = np.ones( (3, 5) )\n",
    "print(\"ones=>{0}\".format(ones))"
   ]
  },
  {
   "cell_type": "markdown",
   "metadata": {},
   "source": [
    "### Empty\n",
    "* np.empty( (陣列各維度大小用逗號區分) )：用法與np.zeros一樣，但唯一的差別是NumPy不會初始化陣列內元素的初始值，所以內容將會是不確定的。"
   ]
  },
  {
   "cell_type": "code",
   "execution_count": 16,
   "metadata": {},
   "outputs": [
    {
     "name": "stdout",
     "output_type": "stream",
     "text": [
      "e=>[[0.0e+000 4.9e-324 9.9e-324 1.5e-323 2.0e-323]\n",
      " [2.5e-323 3.0e-323 3.5e-323 4.0e-323 4.4e-323]]\n"
     ]
    }
   ],
   "source": [
    "## Empty\n",
    "## It means that we want to declare a uninitialized matrix.\n",
    "e = np.empty( (2, 5) )\n",
    "print(\"e=>{0}\".format(e))"
   ]
  },
  {
   "cell_type": "markdown",
   "metadata": {},
   "source": [
    "### Arange\n",
    "* np.arange( 起始值, 結束值, 步幅, 資料型別 )：也是產生一維陣列，和np.array()的差別在於arange擁有較大的彈性，而且元素數值是自動化產生！步幅決定每隔多少數值產生一個元素(等差的概念)。"
   ]
  },
  {
   "cell_type": "code",
   "execution_count": 17,
   "metadata": {},
   "outputs": [
    {
     "name": "stdout",
     "output_type": "stream",
     "text": [
      "r1=>[25.  25.5 26.  26.5 27.  27.5 28.  28.5 29.  29.5]\n"
     ]
    }
   ],
   "source": [
    "## Arange\n",
    "r1 = np.arange(25, 30, .5)\n",
    "print(\"r1=>{0}\".format(r1))"
   ]
  },
  {
   "cell_type": "markdown",
   "metadata": {},
   "source": [
    "### Linspace\n",
    "* np.linspace( 起始值, 結束值, 起始與結束的區間內要產生幾個元素 )：這個在畫線時還蠻常用到的！只要給定陣列的區間(起始值、結束值)，就可以要求在這個區間內產生幾個元素！"
   ]
  },
  {
   "cell_type": "code",
   "execution_count": 18,
   "metadata": {},
   "outputs": [
    {
     "name": "stdout",
     "output_type": "stream",
     "text": [
      "lin=>\n",
      "[3.   3.25 3.5  3.75 4.   4.25 4.5  4.75 5.  ]\n"
     ]
    }
   ],
   "source": [
    "## Linspace\n",
    "lin = np.linspace(3, 5, 9)\n",
    "print(\"lin=>\\n{0}\".format(lin))"
   ]
  },
  {
   "cell_type": "code",
   "execution_count": null,
   "metadata": {},
   "outputs": [],
   "source": []
  }
 ],
 "metadata": {
  "kernelspec": {
   "display_name": "Python 3",
   "language": "python",
   "name": "python3"
  },
  "language_info": {
   "codemirror_mode": {
    "name": "ipython",
    "version": 3
   },
   "file_extension": ".py",
   "mimetype": "text/x-python",
   "name": "python",
   "nbconvert_exporter": "python",
   "pygments_lexer": "ipython3",
   "version": "3.6.0"
  }
 },
 "nbformat": 4,
 "nbformat_minor": 2
}
